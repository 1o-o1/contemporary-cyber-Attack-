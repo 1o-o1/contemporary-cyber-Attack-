{
  "nbformat": 4,
  "nbformat_minor": 0,
  "metadata": {
    "colab": {
      "provenance": [],
      "collapsed_sections": [],
      "include_colab_link": true
    },
    "kernelspec": {
      "name": "python3",
      "display_name": "Python 3"
    },
    "language_info": {
      "name": "python"
    }
  },
  "cells": [
    {
      "cell_type": "markdown",
      "metadata": {
        "id": "view-in-github",
        "colab_type": "text"
      },
      "source": [
        "<a href=\"https://colab.research.google.com/github/1o-o1/contemporary-cyber-Attack-/blob/main/cyber_attack.ipynb\" target=\"_parent\"><img src=\"https://colab.research.google.com/assets/colab-badge.svg\" alt=\"Open In Colab\"/></a>"
      ]
    },
    {
      "cell_type": "code",
      "execution_count": null,
      "metadata": {
        "id": "-mny3LiLLK4c"
      },
      "outputs": [],
      "source": [
        "! pip install -q kaggle"
      ]
    },
    {
      "cell_type": "code",
      "source": [
        "import tensorflow as tf # Imports tensorflow\n",
        "from tensorflow import keras\n",
        "from tensorflow.keras.preprocessing import image\n",
        "from tensorflow.keras.models import Sequential\n",
        "from tensorflow.keras import layers\n",
        "from tensorflow.keras.layers import Dense, Activation, Flatten, Dropout, BatchNormalization,Embedding\n",
        "from tensorflow.keras.layers import Conv2D, MaxPooling2D,LSTM,Bidirectional,Attention,Concatenate,MultiHeadAttention\n",
        "from tensorflow.keras.layers import DepthwiseConv2D,Add, ReLU, GlobalAveragePooling2D, GlobalMaxPooling2D\n",
        "from tensorflow.keras.layers import Activation,ActivityRegularization, AvgPool2D\n",
        "from tensorflow.keras import regularizers, optimizers,losses\n",
        "from tensorflow.keras.metrics import Recall,Precision,AUC,TruePositives,TrueNegatives,FalseNegatives,FalsePositives, SpecificityAtSensitivity,SensitivityAtSpecificity\n",
        "from tensorflow.keras.metrics import CategoricalAccuracy, BinaryAccuracy\n",
        "from tensorflow.keras.utils import plot_model\n",
        "from tensorflow.keras.utils import to_categorical\n",
        "from sklearn.model_selection import train_test_split\n",
        "import numpy as np\n",
        "import pandas as pd \n",
        "import matplotlib\n",
        "import seaborn as sns\n",
        "import sklearn\n",
        "#import imblearn\n",
        "import matplotlib.pyplot as plt\n",
        "from tqdm import tqdm\n",
        "import os\n",
        "from glob import glob\n",
        "from keras import backend as K\n",
        "import skimage.io\n",
        "import skimage.color\n",
        "import skimage.filters\n"
      ],
      "metadata": {
        "id": "UsPn6qP0L3ca"
      },
      "execution_count": null,
      "outputs": []
    },
    {
      "cell_type": "code",
      "source": [
        "# Google Drive Mount\n",
        "from google.colab import drive\n",
        "drive.mount('/content/drive')\n",
        "\n",
        "%cd /content/drive/MyDrive/Colab Notebooks/\n",
        "%ls\n"
      ],
      "metadata": {
        "colab": {
          "base_uri": "https://localhost:8080/"
        },
        "id": "DfM3y28yMV8e",
        "outputId": "a64c5f5b-a0a0-459e-b4ad-ba3864a0d9ae"
      },
      "execution_count": null,
      "outputs": [
        {
          "output_type": "stream",
          "name": "stdout",
          "text": [
            "Mounted at /content/drive\n",
            "/content/drive/MyDrive/Colab Notebooks\n",
            "\u001b[0m\u001b[01;34m'attack detection'\u001b[0m/\n",
            "'b Brain MRI Pradeepseqcnn-pradeeppred.csv'\n",
            "'b Brain MRI Pradeepseqcnn-pradeeptest.csv'\n",
            " checkpoint2.hdf5\n",
            " Classification.ipynb\n",
            "'Classification with class result.ipynb'\n",
            " classwise.ipynb\n",
            " Clustering.ipynb\n",
            " cmrtbv2.csv\n",
            " cmrtbv2.h5\n",
            " CNNacc.png\n",
            " CNN.csv\n",
            " CNN.h5\n",
            " CNNloss.png\n",
            " CNN.png\n",
            " CNNv7.h5\n",
            " \u001b[01;34mcompound\u001b[0m/\n",
            " compound.png\n",
            " compoundv6.h5\n",
            "'Copy of Copy of DIP.ipynb'\n",
            "'Copy of DIP.ipynb'\n",
            "'cyber attack.ipynb'\n",
            " CyberNetacc.png\n",
            " CyberNet.csv\n",
            " CyberNet.h5\n",
            " CyberNetloss.png\n",
            " \u001b[01;34mCyberNettfjsv3\u001b[0m/\n",
            " \u001b[01;34mdemo\u001b[0m/\n",
            " \u001b[01;34mdipAss\u001b[0m/\n",
            " DIP.ipynb\n",
            "'d Sartaz datasetseqcnn-sartajpred.csv'\n",
            "'d Sartaz datasetseqcnn-sartajtest.csv'\n",
            " dtest.png\n",
            " Efficientnet-B0_classification_with_seg.ipynb\n",
            " figshare-train.ipynb\n",
            " image6.jpg\n",
            " Loan.ipynb\n",
            " ModelAI.ipynb\n",
            " ModelAi.py\n",
            " newlab.csv\n",
            " OCR\n",
            " \u001b[01;34mresult\u001b[0m/\n",
            " tumCnn.ipynb\n",
            " Unet.ipynb\n",
            "'Unet Performance.ipynb'\n",
            " Untitled0.ipynb\n",
            "\u001b[01;34m'vv.zip (Unzipped Files)'\u001b[0m/\n"
          ]
        }
      ]
    },
    {
      "cell_type": "code",
      "source": [
        "train_df = pd.read_csv(\"attack detection/UNSW_NB15_testing-set.csv\")\n",
        "test_df = pd.read_csv(\"attack detection/UNSW_NB15_training-set.csv\")"
      ],
      "metadata": {
        "id": "0o2U2m51T5hN"
      },
      "execution_count": null,
      "outputs": []
    },
    {
      "cell_type": "code",
      "source": [
        "train_df.head()"
      ],
      "metadata": {
        "colab": {
          "base_uri": "https://localhost:8080/",
          "height": 299
        },
        "id": "HOJLk-gMUMeJ",
        "outputId": "9893ad27-5e29-49fa-a4e5-202c820644f3"
      },
      "execution_count": null,
      "outputs": [
        {
          "output_type": "execute_result",
          "data": {
            "text/plain": [
              "   id       dur proto service state  spkts  dpkts  sbytes  dbytes       rate  \\\n",
              "0   1  0.121478   tcp       -   FIN      6      4     258     172  74.087490   \n",
              "1   2  0.649902   tcp       -   FIN     14     38     734   42014  78.473372   \n",
              "2   3  1.623129   tcp       -   FIN      8     16     364   13186  14.170161   \n",
              "3   4  1.681642   tcp     ftp   FIN     12     12     628     770  13.677108   \n",
              "4   5  0.449454   tcp       -   FIN     10      6     534     268  33.373826   \n",
              "\n",
              "   ...  ct_dst_sport_ltm  ct_dst_src_ltm  is_ftp_login  ct_ftp_cmd  \\\n",
              "0  ...                 1               1             0           0   \n",
              "1  ...                 1               2             0           0   \n",
              "2  ...                 1               3             0           0   \n",
              "3  ...                 1               3             1           1   \n",
              "4  ...                 1              40             0           0   \n",
              "\n",
              "   ct_flw_http_mthd  ct_src_ltm  ct_srv_dst  is_sm_ips_ports  attack_cat  \\\n",
              "0                 0           1           1                0      Normal   \n",
              "1                 0           1           6                0      Normal   \n",
              "2                 0           2           6                0      Normal   \n",
              "3                 0           2           1                0      Normal   \n",
              "4                 0           2          39                0      Normal   \n",
              "\n",
              "   label  \n",
              "0      0  \n",
              "1      0  \n",
              "2      0  \n",
              "3      0  \n",
              "4      0  \n",
              "\n",
              "[5 rows x 45 columns]"
            ],
            "text/html": [
              "\n",
              "  <div id=\"df-2b755e7f-4f43-42d8-9ff9-33597adf791b\">\n",
              "    <div class=\"colab-df-container\">\n",
              "      <div>\n",
              "<style scoped>\n",
              "    .dataframe tbody tr th:only-of-type {\n",
              "        vertical-align: middle;\n",
              "    }\n",
              "\n",
              "    .dataframe tbody tr th {\n",
              "        vertical-align: top;\n",
              "    }\n",
              "\n",
              "    .dataframe thead th {\n",
              "        text-align: right;\n",
              "    }\n",
              "</style>\n",
              "<table border=\"1\" class=\"dataframe\">\n",
              "  <thead>\n",
              "    <tr style=\"text-align: right;\">\n",
              "      <th></th>\n",
              "      <th>id</th>\n",
              "      <th>dur</th>\n",
              "      <th>proto</th>\n",
              "      <th>service</th>\n",
              "      <th>state</th>\n",
              "      <th>spkts</th>\n",
              "      <th>dpkts</th>\n",
              "      <th>sbytes</th>\n",
              "      <th>dbytes</th>\n",
              "      <th>rate</th>\n",
              "      <th>...</th>\n",
              "      <th>ct_dst_sport_ltm</th>\n",
              "      <th>ct_dst_src_ltm</th>\n",
              "      <th>is_ftp_login</th>\n",
              "      <th>ct_ftp_cmd</th>\n",
              "      <th>ct_flw_http_mthd</th>\n",
              "      <th>ct_src_ltm</th>\n",
              "      <th>ct_srv_dst</th>\n",
              "      <th>is_sm_ips_ports</th>\n",
              "      <th>attack_cat</th>\n",
              "      <th>label</th>\n",
              "    </tr>\n",
              "  </thead>\n",
              "  <tbody>\n",
              "    <tr>\n",
              "      <th>0</th>\n",
              "      <td>1</td>\n",
              "      <td>0.121478</td>\n",
              "      <td>tcp</td>\n",
              "      <td>-</td>\n",
              "      <td>FIN</td>\n",
              "      <td>6</td>\n",
              "      <td>4</td>\n",
              "      <td>258</td>\n",
              "      <td>172</td>\n",
              "      <td>74.087490</td>\n",
              "      <td>...</td>\n",
              "      <td>1</td>\n",
              "      <td>1</td>\n",
              "      <td>0</td>\n",
              "      <td>0</td>\n",
              "      <td>0</td>\n",
              "      <td>1</td>\n",
              "      <td>1</td>\n",
              "      <td>0</td>\n",
              "      <td>Normal</td>\n",
              "      <td>0</td>\n",
              "    </tr>\n",
              "    <tr>\n",
              "      <th>1</th>\n",
              "      <td>2</td>\n",
              "      <td>0.649902</td>\n",
              "      <td>tcp</td>\n",
              "      <td>-</td>\n",
              "      <td>FIN</td>\n",
              "      <td>14</td>\n",
              "      <td>38</td>\n",
              "      <td>734</td>\n",
              "      <td>42014</td>\n",
              "      <td>78.473372</td>\n",
              "      <td>...</td>\n",
              "      <td>1</td>\n",
              "      <td>2</td>\n",
              "      <td>0</td>\n",
              "      <td>0</td>\n",
              "      <td>0</td>\n",
              "      <td>1</td>\n",
              "      <td>6</td>\n",
              "      <td>0</td>\n",
              "      <td>Normal</td>\n",
              "      <td>0</td>\n",
              "    </tr>\n",
              "    <tr>\n",
              "      <th>2</th>\n",
              "      <td>3</td>\n",
              "      <td>1.623129</td>\n",
              "      <td>tcp</td>\n",
              "      <td>-</td>\n",
              "      <td>FIN</td>\n",
              "      <td>8</td>\n",
              "      <td>16</td>\n",
              "      <td>364</td>\n",
              "      <td>13186</td>\n",
              "      <td>14.170161</td>\n",
              "      <td>...</td>\n",
              "      <td>1</td>\n",
              "      <td>3</td>\n",
              "      <td>0</td>\n",
              "      <td>0</td>\n",
              "      <td>0</td>\n",
              "      <td>2</td>\n",
              "      <td>6</td>\n",
              "      <td>0</td>\n",
              "      <td>Normal</td>\n",
              "      <td>0</td>\n",
              "    </tr>\n",
              "    <tr>\n",
              "      <th>3</th>\n",
              "      <td>4</td>\n",
              "      <td>1.681642</td>\n",
              "      <td>tcp</td>\n",
              "      <td>ftp</td>\n",
              "      <td>FIN</td>\n",
              "      <td>12</td>\n",
              "      <td>12</td>\n",
              "      <td>628</td>\n",
              "      <td>770</td>\n",
              "      <td>13.677108</td>\n",
              "      <td>...</td>\n",
              "      <td>1</td>\n",
              "      <td>3</td>\n",
              "      <td>1</td>\n",
              "      <td>1</td>\n",
              "      <td>0</td>\n",
              "      <td>2</td>\n",
              "      <td>1</td>\n",
              "      <td>0</td>\n",
              "      <td>Normal</td>\n",
              "      <td>0</td>\n",
              "    </tr>\n",
              "    <tr>\n",
              "      <th>4</th>\n",
              "      <td>5</td>\n",
              "      <td>0.449454</td>\n",
              "      <td>tcp</td>\n",
              "      <td>-</td>\n",
              "      <td>FIN</td>\n",
              "      <td>10</td>\n",
              "      <td>6</td>\n",
              "      <td>534</td>\n",
              "      <td>268</td>\n",
              "      <td>33.373826</td>\n",
              "      <td>...</td>\n",
              "      <td>1</td>\n",
              "      <td>40</td>\n",
              "      <td>0</td>\n",
              "      <td>0</td>\n",
              "      <td>0</td>\n",
              "      <td>2</td>\n",
              "      <td>39</td>\n",
              "      <td>0</td>\n",
              "      <td>Normal</td>\n",
              "      <td>0</td>\n",
              "    </tr>\n",
              "  </tbody>\n",
              "</table>\n",
              "<p>5 rows × 45 columns</p>\n",
              "</div>\n",
              "      <button class=\"colab-df-convert\" onclick=\"convertToInteractive('df-2b755e7f-4f43-42d8-9ff9-33597adf791b')\"\n",
              "              title=\"Convert this dataframe to an interactive table.\"\n",
              "              style=\"display:none;\">\n",
              "        \n",
              "  <svg xmlns=\"http://www.w3.org/2000/svg\" height=\"24px\"viewBox=\"0 0 24 24\"\n",
              "       width=\"24px\">\n",
              "    <path d=\"M0 0h24v24H0V0z\" fill=\"none\"/>\n",
              "    <path d=\"M18.56 5.44l.94 2.06.94-2.06 2.06-.94-2.06-.94-.94-2.06-.94 2.06-2.06.94zm-11 1L8.5 8.5l.94-2.06 2.06-.94-2.06-.94L8.5 2.5l-.94 2.06-2.06.94zm10 10l.94 2.06.94-2.06 2.06-.94-2.06-.94-.94-2.06-.94 2.06-2.06.94z\"/><path d=\"M17.41 7.96l-1.37-1.37c-.4-.4-.92-.59-1.43-.59-.52 0-1.04.2-1.43.59L10.3 9.45l-7.72 7.72c-.78.78-.78 2.05 0 2.83L4 21.41c.39.39.9.59 1.41.59.51 0 1.02-.2 1.41-.59l7.78-7.78 2.81-2.81c.8-.78.8-2.07 0-2.86zM5.41 20L4 18.59l7.72-7.72 1.47 1.35L5.41 20z\"/>\n",
              "  </svg>\n",
              "      </button>\n",
              "      \n",
              "  <style>\n",
              "    .colab-df-container {\n",
              "      display:flex;\n",
              "      flex-wrap:wrap;\n",
              "      gap: 12px;\n",
              "    }\n",
              "\n",
              "    .colab-df-convert {\n",
              "      background-color: #E8F0FE;\n",
              "      border: none;\n",
              "      border-radius: 50%;\n",
              "      cursor: pointer;\n",
              "      display: none;\n",
              "      fill: #1967D2;\n",
              "      height: 32px;\n",
              "      padding: 0 0 0 0;\n",
              "      width: 32px;\n",
              "    }\n",
              "\n",
              "    .colab-df-convert:hover {\n",
              "      background-color: #E2EBFA;\n",
              "      box-shadow: 0px 1px 2px rgba(60, 64, 67, 0.3), 0px 1px 3px 1px rgba(60, 64, 67, 0.15);\n",
              "      fill: #174EA6;\n",
              "    }\n",
              "\n",
              "    [theme=dark] .colab-df-convert {\n",
              "      background-color: #3B4455;\n",
              "      fill: #D2E3FC;\n",
              "    }\n",
              "\n",
              "    [theme=dark] .colab-df-convert:hover {\n",
              "      background-color: #434B5C;\n",
              "      box-shadow: 0px 1px 3px 1px rgba(0, 0, 0, 0.15);\n",
              "      filter: drop-shadow(0px 1px 2px rgba(0, 0, 0, 0.3));\n",
              "      fill: #FFFFFF;\n",
              "    }\n",
              "  </style>\n",
              "\n",
              "      <script>\n",
              "        const buttonEl =\n",
              "          document.querySelector('#df-2b755e7f-4f43-42d8-9ff9-33597adf791b button.colab-df-convert');\n",
              "        buttonEl.style.display =\n",
              "          google.colab.kernel.accessAllowed ? 'block' : 'none';\n",
              "\n",
              "        async function convertToInteractive(key) {\n",
              "          const element = document.querySelector('#df-2b755e7f-4f43-42d8-9ff9-33597adf791b');\n",
              "          const dataTable =\n",
              "            await google.colab.kernel.invokeFunction('convertToInteractive',\n",
              "                                                     [key], {});\n",
              "          if (!dataTable) return;\n",
              "\n",
              "          const docLinkHtml = 'Like what you see? Visit the ' +\n",
              "            '<a target=\"_blank\" href=https://colab.research.google.com/notebooks/data_table.ipynb>data table notebook</a>'\n",
              "            + ' to learn more about interactive tables.';\n",
              "          element.innerHTML = '';\n",
              "          dataTable['output_type'] = 'display_data';\n",
              "          await google.colab.output.renderOutput(dataTable, element);\n",
              "          const docLink = document.createElement('div');\n",
              "          docLink.innerHTML = docLinkHtml;\n",
              "          element.appendChild(docLink);\n",
              "        }\n",
              "      </script>\n",
              "    </div>\n",
              "  </div>\n",
              "  "
            ]
          },
          "metadata": {},
          "execution_count": 8
        }
      ]
    },
    {
      "cell_type": "markdown",
      "source": [
        "## These are the output Fields"
      ],
      "metadata": {
        "id": "Rh-8seZWtvm0"
      }
    },
    {
      "cell_type": "code",
      "source": [
        "train_df[['attack_cat']].value_counts()"
      ],
      "metadata": {
        "colab": {
          "base_uri": "https://localhost:8080/"
        },
        "id": "f_ryd-GZUSqS",
        "outputId": "73222c56-8ef9-4f8a-f2b2-d3bc59e2bc84"
      },
      "execution_count": null,
      "outputs": [
        {
          "output_type": "execute_result",
          "data": {
            "text/plain": [
              "attack_cat    \n",
              "Normal            56000\n",
              "Generic           40000\n",
              "Exploits          33393\n",
              "Fuzzers           18184\n",
              "DoS               12264\n",
              "Reconnaissance    10491\n",
              "Analysis           2000\n",
              "Backdoor           1746\n",
              "Shellcode          1133\n",
              "Worms               130\n",
              "dtype: int64"
            ]
          },
          "metadata": {},
          "execution_count": 9
        }
      ]
    },
    {
      "cell_type": "code",
      "source": [
        "test_df[['attack_cat']].value_counts()"
      ],
      "metadata": {
        "colab": {
          "base_uri": "https://localhost:8080/"
        },
        "id": "pAbt082DVthq",
        "outputId": "17874517-e981-4316-9751-430b2f0f8208"
      },
      "execution_count": null,
      "outputs": [
        {
          "output_type": "execute_result",
          "data": {
            "text/plain": [
              "attack_cat    \n",
              "Normal            37000\n",
              "Generic           18871\n",
              "Exploits          11132\n",
              "Fuzzers            6062\n",
              "DoS                4089\n",
              "Reconnaissance     3496\n",
              "Analysis            677\n",
              "Backdoor            583\n",
              "Shellcode           378\n",
              "Worms                44\n",
              "dtype: int64"
            ]
          },
          "metadata": {},
          "execution_count": 10
        }
      ]
    },
    {
      "cell_type": "code",
      "source": [
        "train_df = train_df.drop([\"id\"], axis=1)\n",
        "test_df = test_df.drop([\"id\"], axis=1)\n",
        "def data_preprocessing_attack_cat(data):\n",
        "    data[\"attack_cat\"] = data[\"attack_cat\"].fillna('Normal')\n",
        "    data[\"attack_cat\"] = data[\"attack_cat\"].replace(' Fuzzers','Fuzzers')\n",
        "    data[\"attack_cat\"] = data[\"attack_cat\"].replace(' Fuzzers ','Fuzzers')\n",
        "    data[\"attack_cat\"] = data[\"attack_cat\"].replace(' Reconnaissance','Reconnaissance')\n",
        "    data[\"attack_cat\"] = data[\"attack_cat\"].replace(' Reconnaissance ','Reconnaissance')\n",
        "    data[\"attack_cat\"] = data[\"attack_cat\"].replace(' Shellcode','Shellcode')\n",
        "    data[\"attack_cat\"] = data[\"attack_cat\"].replace(' Shellcode ','Shellcode')\n",
        "    data[\"attack_cat\"] = data[\"attack_cat\"].replace('Backdoors','Backdoor')\n",
        "\n",
        "    return data"
      ],
      "metadata": {
        "id": "YvYrUtWypEeF"
      },
      "execution_count": null,
      "outputs": []
    },
    {
      "cell_type": "code",
      "source": [
        "train_df = data_preprocessing_attack_cat(train_df)\n",
        "test_df = data_preprocessing_attack_cat(test_df)\n",
        "numerical_cols = train_df.select_dtypes(exclude=[\"object\"]).columns\n",
        "numerical_cols\n",
        "train_df[numerical_cols] = train_df[numerical_cols].fillna(0)\n",
        "test_df[numerical_cols] = test_df[numerical_cols].fillna(0)\n",
        "categorical_cols = train_df.select_dtypes(include=[\"object\"]).columns\n",
        "categorical_cols = list(categorical_cols)\n",
        "categorical_cols.remove(\"attack_cat\")\n",
        "categorical_cols\n",
        "train_df[categorical_cols] = train_df[categorical_cols].replace('-', \"None\")\n",
        "test_df[categorical_cols] = test_df[categorical_cols].replace('-', \"Noonne\")\n",
        "train_df[categorical_cols] = train_df[categorical_cols].fillna(\"None\")\n",
        "test_df[categorical_cols] = test_df[categorical_cols].fillna(\"None\")"
      ],
      "metadata": {
        "id": "oXGQRo43pen8"
      },
      "execution_count": null,
      "outputs": []
    },
    {
      "cell_type": "code",
      "source": [
        "from sklearn.preprocessing import OneHotEncoder\n",
        "\n",
        "def one_hot_encode_fit_col(data, col):\n",
        "    values = data[col].unique()\n",
        "    for index, v_col in enumerate(values):\n",
        "        values[index] = col+\"_\"+v_col\n",
        "        data[col+\"_\"+v_col] = np.zeros(len(data))\n",
        "    enc = OneHotEncoder(handle_unknown='ignore')\n",
        "    data[values] = enc.fit_transform(data[col].values.reshape(-1,1)).toarray()\n",
        "    data = data.drop([col],axis=1)\n",
        "    return data, enc, values\n",
        "def one_hot_encode_transform_col(data, col, enc, col_values):\n",
        "    for v_col in col_values:\n",
        "        data[v_col] = np.zeros(len(data))\n",
        "    data[col_values] = enc.transform(data[col].values.reshape(-1,1)).toarray()\n",
        "    data = data.drop([col],axis=1)\n",
        "    return data\n",
        "def label_encoder_fit_col(data, col):\n",
        "    values = [\"out\"]\n",
        "    values.extend(data[col].unique())\n",
        "    dict_values = {k: v for v, k in enumerate(values)}\n",
        "    print(dict_values)\n",
        "    data[col] = data[col].apply(lambda x: dict_values[x])\n",
        "    data[col] = data[col].astype(\"int32\")\n",
        "    return data, dict_values\n",
        "def label_encoder_transform_col(data, col, dict_values):\n",
        "    data[col] = data[col].apply(lambda x: dict_values[x] if x in dict_values else 0)\n",
        "    data[col] = data[col].astype(\"int32\")\n",
        "    return data"
      ],
      "metadata": {
        "id": "dn1_7miApgKk"
      },
      "execution_count": null,
      "outputs": []
    },
    {
      "cell_type": "code",
      "source": [
        "train_df, dict_values = label_encoder_fit_col(train_df, \"proto\")\n",
        "test_df = label_encoder_transform_col(test_df, \"proto\", dict_values)\n",
        "\n",
        "\n",
        "train_df, dict_values = label_encoder_fit_col(train_df, \"service\")\n",
        "test_df = label_encoder_transform_col(test_df, \"service\", dict_values)\n",
        "\n",
        "\n",
        "train_df, dict_values = label_encoder_fit_col(train_df, \"state\")\n",
        "test_df = label_encoder_transform_col(test_df, \"state\", dict_values)\n",
        "train_df = train_df.sample(frac=1).reset_index(drop=True)\n",
        "X_train = train_df.drop([\"label\", \"attack_cat\"], axis=1)\n",
        "y_train = train_df[\"attack_cat\"]\n",
        "\n",
        "X_test = test_df.drop([\"label\", \"attack_cat\"], axis=1)\n",
        "y_test = test_df[\"attack_cat\"]"
      ],
      "metadata": {
        "colab": {
          "base_uri": "https://localhost:8080/"
        },
        "id": "T3VR3mq_plF1",
        "outputId": "e0f085c6-df1f-4633-f09a-bf197375cb62"
      },
      "execution_count": null,
      "outputs": [
        {
          "output_type": "stream",
          "name": "stdout",
          "text": [
            "{'out': 0, 'tcp': 1, 'udp': 2, 'arp': 3, 'ospf': 4, 'icmp': 5, 'igmp': 6, 'rtp': 7, 'ddp': 8, 'ipv6-frag': 9, 'cftp': 10, 'wsn': 11, 'pvp': 12, 'wb-expak': 13, 'mtp': 14, 'pri-enc': 15, 'sat-mon': 16, 'cphb': 17, 'sun-nd': 18, 'iso-ip': 19, 'xtp': 20, 'il': 21, 'unas': 22, 'mfe-nsp': 23, '3pc': 24, 'ipv6-route': 25, 'idrp': 26, 'bna': 27, 'swipe': 28, 'kryptolan': 29, 'cpnx': 30, 'rsvp': 31, 'wb-mon': 32, 'vmtp': 33, 'ib': 34, 'dgp': 35, 'eigrp': 36, 'ax.25': 37, 'gmtp': 38, 'pnni': 39, 'sep': 40, 'pgm': 41, 'idpr-cmtp': 42, 'zero': 43, 'rvd': 44, 'mobile': 45, 'narp': 46, 'fc': 47, 'pipe': 48, 'ipcomp': 49, 'ipv6-no': 50, 'sat-expak': 51, 'ipv6-opts': 52, 'snp': 53, 'ipcv': 54, 'br-sat-mon': 55, 'ttp': 56, 'tcf': 57, 'nsfnet-igp': 58, 'sprite-rpc': 59, 'aes-sp3-d': 60, 'sccopmce': 61, 'sctp': 62, 'qnx': 63, 'scps': 64, 'etherip': 65, 'aris': 66, 'pim': 67, 'compaq-peer': 68, 'vrrp': 69, 'iatp': 70, 'stp': 71, 'l2tp': 72, 'srp': 73, 'sm': 74, 'isis': 75, 'smp': 76, 'fire': 77, 'ptp': 78, 'crtp': 79, 'sps': 80, 'merit-inp': 81, 'idpr': 82, 'skip': 83, 'any': 84, 'larp': 85, 'ipip': 86, 'micp': 87, 'encap': 88, 'ifmp': 89, 'tp++': 90, 'a/n': 91, 'ipv6': 92, 'i-nlsp': 93, 'ipx-n-ip': 94, 'sdrp': 95, 'tlsp': 96, 'gre': 97, 'mhrp': 98, 'ddx': 99, 'ippc': 100, 'visa': 101, 'secure-vmtp': 102, 'uti': 103, 'vines': 104, 'crudp': 105, 'iplt': 106, 'ggp': 107, 'ip': 108, 'ipnip': 109, 'st2': 110, 'argus': 111, 'bbn-rcc': 112, 'egp': 113, 'emcon': 114, 'igp': 115, 'nvp': 116, 'pup': 117, 'xnet': 118, 'chaos': 119, 'mux': 120, 'dcn': 121, 'hmp': 122, 'prm': 123, 'trunk-1': 124, 'xns-idp': 125, 'leaf-1': 126, 'leaf-2': 127, 'rdp': 128, 'irtp': 129, 'iso-tp4': 130, 'netblt': 131, 'trunk-2': 132, 'cbt': 133}\n",
            "{'out': 0, 'None': 1, 'ftp': 2, 'smtp': 3, 'snmp': 4, 'http': 5, 'ftp-data': 6, 'dns': 7, 'ssh': 8, 'radius': 9, 'pop3': 10, 'dhcp': 11, 'ssl': 12, 'irc': 13}\n",
            "{'out': 0, 'FIN': 1, 'INT': 2, 'CON': 3, 'ECO': 4, 'REQ': 5, 'RST': 6, 'PAR': 7, 'URN': 8, 'no': 9}\n"
          ]
        }
      ]
    },
    {
      "cell_type": "markdown",
      "source": [
        "## These are the input Fields "
      ],
      "metadata": {
        "id": "Ikh2bnAKtopb"
      }
    },
    {
      "cell_type": "code",
      "source": [
        "X_train.head()"
      ],
      "metadata": {
        "colab": {
          "base_uri": "https://localhost:8080/",
          "height": 299
        },
        "id": "YjzE7kBip5rb",
        "outputId": "f9fe3e5e-4495-489f-8a78-cb25ce1ee10b"
      },
      "execution_count": null,
      "outputs": [
        {
          "output_type": "execute_result",
          "data": {
            "text/plain": [
              "        dur  proto  service  state  spkts  dpkts  sbytes  dbytes  \\\n",
              "0  0.000000      3        1      2      1      0      46       0   \n",
              "1  0.000009     22        1      2      2      0     200       0   \n",
              "2  0.016975      1        1      1     48     50    2958   33044   \n",
              "3  0.000003      2        7      2      2      0     114       0   \n",
              "4  0.000009      2        7      2      2      0     114       0   \n",
              "\n",
              "            rate  sttl  ...  ct_dst_ltm  ct_src_dport_ltm  ct_dst_sport_ltm  \\\n",
              "0       0.000000     0  ...           2                 2                 2   \n",
              "1  111111.107200   254  ...           4                 4                 4   \n",
              "2    5714.285546    31  ...           1                 1                 1   \n",
              "3  333333.321500   254  ...           4                 3                 3   \n",
              "4  111111.107200   254  ...          34                33                16   \n",
              "\n",
              "   ct_dst_src_ltm  is_ftp_login  ct_ftp_cmd  ct_flw_http_mthd  ct_src_ltm  \\\n",
              "0               2             0           0                 0           2   \n",
              "1              12             0           0                 0           4   \n",
              "2               1             0           0                 0           2   \n",
              "3              36             0           0                 0           3   \n",
              "4              42             0           0                 0          34   \n",
              "\n",
              "   ct_srv_dst  is_sm_ips_ports  \n",
              "0           2                1  \n",
              "1           7                0  \n",
              "2           2                0  \n",
              "3          36                0  \n",
              "4          42                0  \n",
              "\n",
              "[5 rows x 42 columns]"
            ],
            "text/html": [
              "\n",
              "  <div id=\"df-4f323762-67ee-423c-9907-94b76178f7aa\">\n",
              "    <div class=\"colab-df-container\">\n",
              "      <div>\n",
              "<style scoped>\n",
              "    .dataframe tbody tr th:only-of-type {\n",
              "        vertical-align: middle;\n",
              "    }\n",
              "\n",
              "    .dataframe tbody tr th {\n",
              "        vertical-align: top;\n",
              "    }\n",
              "\n",
              "    .dataframe thead th {\n",
              "        text-align: right;\n",
              "    }\n",
              "</style>\n",
              "<table border=\"1\" class=\"dataframe\">\n",
              "  <thead>\n",
              "    <tr style=\"text-align: right;\">\n",
              "      <th></th>\n",
              "      <th>dur</th>\n",
              "      <th>proto</th>\n",
              "      <th>service</th>\n",
              "      <th>state</th>\n",
              "      <th>spkts</th>\n",
              "      <th>dpkts</th>\n",
              "      <th>sbytes</th>\n",
              "      <th>dbytes</th>\n",
              "      <th>rate</th>\n",
              "      <th>sttl</th>\n",
              "      <th>...</th>\n",
              "      <th>ct_dst_ltm</th>\n",
              "      <th>ct_src_dport_ltm</th>\n",
              "      <th>ct_dst_sport_ltm</th>\n",
              "      <th>ct_dst_src_ltm</th>\n",
              "      <th>is_ftp_login</th>\n",
              "      <th>ct_ftp_cmd</th>\n",
              "      <th>ct_flw_http_mthd</th>\n",
              "      <th>ct_src_ltm</th>\n",
              "      <th>ct_srv_dst</th>\n",
              "      <th>is_sm_ips_ports</th>\n",
              "    </tr>\n",
              "  </thead>\n",
              "  <tbody>\n",
              "    <tr>\n",
              "      <th>0</th>\n",
              "      <td>0.000000</td>\n",
              "      <td>3</td>\n",
              "      <td>1</td>\n",
              "      <td>2</td>\n",
              "      <td>1</td>\n",
              "      <td>0</td>\n",
              "      <td>46</td>\n",
              "      <td>0</td>\n",
              "      <td>0.000000</td>\n",
              "      <td>0</td>\n",
              "      <td>...</td>\n",
              "      <td>2</td>\n",
              "      <td>2</td>\n",
              "      <td>2</td>\n",
              "      <td>2</td>\n",
              "      <td>0</td>\n",
              "      <td>0</td>\n",
              "      <td>0</td>\n",
              "      <td>2</td>\n",
              "      <td>2</td>\n",
              "      <td>1</td>\n",
              "    </tr>\n",
              "    <tr>\n",
              "      <th>1</th>\n",
              "      <td>0.000009</td>\n",
              "      <td>22</td>\n",
              "      <td>1</td>\n",
              "      <td>2</td>\n",
              "      <td>2</td>\n",
              "      <td>0</td>\n",
              "      <td>200</td>\n",
              "      <td>0</td>\n",
              "      <td>111111.107200</td>\n",
              "      <td>254</td>\n",
              "      <td>...</td>\n",
              "      <td>4</td>\n",
              "      <td>4</td>\n",
              "      <td>4</td>\n",
              "      <td>12</td>\n",
              "      <td>0</td>\n",
              "      <td>0</td>\n",
              "      <td>0</td>\n",
              "      <td>4</td>\n",
              "      <td>7</td>\n",
              "      <td>0</td>\n",
              "    </tr>\n",
              "    <tr>\n",
              "      <th>2</th>\n",
              "      <td>0.016975</td>\n",
              "      <td>1</td>\n",
              "      <td>1</td>\n",
              "      <td>1</td>\n",
              "      <td>48</td>\n",
              "      <td>50</td>\n",
              "      <td>2958</td>\n",
              "      <td>33044</td>\n",
              "      <td>5714.285546</td>\n",
              "      <td>31</td>\n",
              "      <td>...</td>\n",
              "      <td>1</td>\n",
              "      <td>1</td>\n",
              "      <td>1</td>\n",
              "      <td>1</td>\n",
              "      <td>0</td>\n",
              "      <td>0</td>\n",
              "      <td>0</td>\n",
              "      <td>2</td>\n",
              "      <td>2</td>\n",
              "      <td>0</td>\n",
              "    </tr>\n",
              "    <tr>\n",
              "      <th>3</th>\n",
              "      <td>0.000003</td>\n",
              "      <td>2</td>\n",
              "      <td>7</td>\n",
              "      <td>2</td>\n",
              "      <td>2</td>\n",
              "      <td>0</td>\n",
              "      <td>114</td>\n",
              "      <td>0</td>\n",
              "      <td>333333.321500</td>\n",
              "      <td>254</td>\n",
              "      <td>...</td>\n",
              "      <td>4</td>\n",
              "      <td>3</td>\n",
              "      <td>3</td>\n",
              "      <td>36</td>\n",
              "      <td>0</td>\n",
              "      <td>0</td>\n",
              "      <td>0</td>\n",
              "      <td>3</td>\n",
              "      <td>36</td>\n",
              "      <td>0</td>\n",
              "    </tr>\n",
              "    <tr>\n",
              "      <th>4</th>\n",
              "      <td>0.000009</td>\n",
              "      <td>2</td>\n",
              "      <td>7</td>\n",
              "      <td>2</td>\n",
              "      <td>2</td>\n",
              "      <td>0</td>\n",
              "      <td>114</td>\n",
              "      <td>0</td>\n",
              "      <td>111111.107200</td>\n",
              "      <td>254</td>\n",
              "      <td>...</td>\n",
              "      <td>34</td>\n",
              "      <td>33</td>\n",
              "      <td>16</td>\n",
              "      <td>42</td>\n",
              "      <td>0</td>\n",
              "      <td>0</td>\n",
              "      <td>0</td>\n",
              "      <td>34</td>\n",
              "      <td>42</td>\n",
              "      <td>0</td>\n",
              "    </tr>\n",
              "  </tbody>\n",
              "</table>\n",
              "<p>5 rows × 42 columns</p>\n",
              "</div>\n",
              "      <button class=\"colab-df-convert\" onclick=\"convertToInteractive('df-4f323762-67ee-423c-9907-94b76178f7aa')\"\n",
              "              title=\"Convert this dataframe to an interactive table.\"\n",
              "              style=\"display:none;\">\n",
              "        \n",
              "  <svg xmlns=\"http://www.w3.org/2000/svg\" height=\"24px\"viewBox=\"0 0 24 24\"\n",
              "       width=\"24px\">\n",
              "    <path d=\"M0 0h24v24H0V0z\" fill=\"none\"/>\n",
              "    <path d=\"M18.56 5.44l.94 2.06.94-2.06 2.06-.94-2.06-.94-.94-2.06-.94 2.06-2.06.94zm-11 1L8.5 8.5l.94-2.06 2.06-.94-2.06-.94L8.5 2.5l-.94 2.06-2.06.94zm10 10l.94 2.06.94-2.06 2.06-.94-2.06-.94-.94-2.06-.94 2.06-2.06.94z\"/><path d=\"M17.41 7.96l-1.37-1.37c-.4-.4-.92-.59-1.43-.59-.52 0-1.04.2-1.43.59L10.3 9.45l-7.72 7.72c-.78.78-.78 2.05 0 2.83L4 21.41c.39.39.9.59 1.41.59.51 0 1.02-.2 1.41-.59l7.78-7.78 2.81-2.81c.8-.78.8-2.07 0-2.86zM5.41 20L4 18.59l7.72-7.72 1.47 1.35L5.41 20z\"/>\n",
              "  </svg>\n",
              "      </button>\n",
              "      \n",
              "  <style>\n",
              "    .colab-df-container {\n",
              "      display:flex;\n",
              "      flex-wrap:wrap;\n",
              "      gap: 12px;\n",
              "    }\n",
              "\n",
              "    .colab-df-convert {\n",
              "      background-color: #E8F0FE;\n",
              "      border: none;\n",
              "      border-radius: 50%;\n",
              "      cursor: pointer;\n",
              "      display: none;\n",
              "      fill: #1967D2;\n",
              "      height: 32px;\n",
              "      padding: 0 0 0 0;\n",
              "      width: 32px;\n",
              "    }\n",
              "\n",
              "    .colab-df-convert:hover {\n",
              "      background-color: #E2EBFA;\n",
              "      box-shadow: 0px 1px 2px rgba(60, 64, 67, 0.3), 0px 1px 3px 1px rgba(60, 64, 67, 0.15);\n",
              "      fill: #174EA6;\n",
              "    }\n",
              "\n",
              "    [theme=dark] .colab-df-convert {\n",
              "      background-color: #3B4455;\n",
              "      fill: #D2E3FC;\n",
              "    }\n",
              "\n",
              "    [theme=dark] .colab-df-convert:hover {\n",
              "      background-color: #434B5C;\n",
              "      box-shadow: 0px 1px 3px 1px rgba(0, 0, 0, 0.15);\n",
              "      filter: drop-shadow(0px 1px 2px rgba(0, 0, 0, 0.3));\n",
              "      fill: #FFFFFF;\n",
              "    }\n",
              "  </style>\n",
              "\n",
              "      <script>\n",
              "        const buttonEl =\n",
              "          document.querySelector('#df-4f323762-67ee-423c-9907-94b76178f7aa button.colab-df-convert');\n",
              "        buttonEl.style.display =\n",
              "          google.colab.kernel.accessAllowed ? 'block' : 'none';\n",
              "\n",
              "        async function convertToInteractive(key) {\n",
              "          const element = document.querySelector('#df-4f323762-67ee-423c-9907-94b76178f7aa');\n",
              "          const dataTable =\n",
              "            await google.colab.kernel.invokeFunction('convertToInteractive',\n",
              "                                                     [key], {});\n",
              "          if (!dataTable) return;\n",
              "\n",
              "          const docLinkHtml = 'Like what you see? Visit the ' +\n",
              "            '<a target=\"_blank\" href=https://colab.research.google.com/notebooks/data_table.ipynb>data table notebook</a>'\n",
              "            + ' to learn more about interactive tables.';\n",
              "          element.innerHTML = '';\n",
              "          dataTable['output_type'] = 'display_data';\n",
              "          await google.colab.output.renderOutput(dataTable, element);\n",
              "          const docLink = document.createElement('div');\n",
              "          docLink.innerHTML = docLinkHtml;\n",
              "          element.appendChild(docLink);\n",
              "        }\n",
              "      </script>\n",
              "    </div>\n",
              "  </div>\n",
              "  "
            ]
          },
          "metadata": {},
          "execution_count": 15
        }
      ]
    },
    {
      "cell_type": "code",
      "source": [
        "from sklearn.preprocessing import MinMaxScaler\n",
        "\n",
        "scaler = MinMaxScaler(feature_range=(0,1))\n",
        "X_train = scaler.fit_transform(X_train)\n",
        "X_test = scaler.transform(X_test)"
      ],
      "metadata": {
        "id": "kG8xthH8p9bq"
      },
      "execution_count": null,
      "outputs": []
    },
    {
      "cell_type": "code",
      "source": [
        "X_train.shape"
      ],
      "metadata": {
        "colab": {
          "base_uri": "https://localhost:8080/"
        },
        "id": "9cWQ0L8DqIO1",
        "outputId": "556a0af3-a48c-4cdb-cdf0-46044529bb11"
      },
      "execution_count": null,
      "outputs": [
        {
          "output_type": "execute_result",
          "data": {
            "text/plain": [
              "(175341, 42)"
            ]
          },
          "metadata": {},
          "execution_count": 18
        }
      ]
    },
    {
      "cell_type": "code",
      "source": [
        "X_test.shape"
      ],
      "metadata": {
        "colab": {
          "base_uri": "https://localhost:8080/"
        },
        "id": "HwTOq2uQqQRB",
        "outputId": "341169f2-389e-4a0a-e250-44d3e49b60f3"
      },
      "execution_count": null,
      "outputs": [
        {
          "output_type": "execute_result",
          "data": {
            "text/plain": [
              "(82332, 42)"
            ]
          },
          "metadata": {},
          "execution_count": 17
        }
      ]
    },
    {
      "cell_type": "code",
      "source": [
        "y_train.shape"
      ],
      "metadata": {
        "colab": {
          "base_uri": "https://localhost:8080/"
        },
        "id": "DAeVUVy5qUci",
        "outputId": "b02212b5-6439-4d26-ea9d-85f4128d9b80"
      },
      "execution_count": null,
      "outputs": [
        {
          "output_type": "execute_result",
          "data": {
            "text/plain": [
              "(175341,)"
            ]
          },
          "metadata": {},
          "execution_count": 19
        }
      ]
    },
    {
      "cell_type": "code",
      "source": [
        "from sklearn.preprocessing import LabelEncoder\n",
        "from tensorflow.keras.utils import to_categorical \n",
        "\n",
        "cls_label_encoder = LabelEncoder()\n",
        "y_train = cls_label_encoder.fit_transform(y_train)\n",
        "y_test = cls_label_encoder.transform(y_test)"
      ],
      "metadata": {
        "id": "esUZd68mqW89"
      },
      "execution_count": null,
      "outputs": []
    },
    {
      "cell_type": "code",
      "source": [
        "input_shape = X_train.shape[1:]\n",
        "n_classes = len(np.unique(y_train))"
      ],
      "metadata": {
        "id": "LRSqyMF7qmUf"
      },
      "execution_count": null,
      "outputs": []
    },
    {
      "cell_type": "code",
      "source": [
        "y_train = to_categorical(y_train, num_classes=n_classes)\n",
        "y_test = to_categorical(y_test, num_classes=n_classes)\n",
        "y_train.shape"
      ],
      "metadata": {
        "colab": {
          "base_uri": "https://localhost:8080/"
        },
        "id": "IzdoWYEeqx-t",
        "outputId": "dd61f278-3077-4c3f-e0e9-57fa2d41d9a2"
      },
      "execution_count": null,
      "outputs": [
        {
          "output_type": "execute_result",
          "data": {
            "text/plain": [
              "(175341, 10)"
            ]
          },
          "metadata": {},
          "execution_count": 22
        }
      ]
    },
    {
      "cell_type": "code",
      "source": [
        "X_train = X_train.reshape((X_train.shape[0], X_train.shape[1], 1))\n",
        "X_test = X_test.reshape((X_test.shape[0], X_test.shape[1], 1))"
      ],
      "metadata": {
        "id": "5QPZ9GQtq37A"
      },
      "execution_count": null,
      "outputs": []
    },
    {
      "cell_type": "code",
      "source": [
        "X_train.shape"
      ],
      "metadata": {
        "colab": {
          "base_uri": "https://localhost:8080/"
        },
        "id": "8Pfbj1_NrJgZ",
        "outputId": "f1ff09a4-7805-46b4-8f62-a8e3554d1c31"
      },
      "execution_count": null,
      "outputs": [
        {
          "output_type": "execute_result",
          "data": {
            "text/plain": [
              "(175341, 42, 1)"
            ]
          },
          "metadata": {},
          "execution_count": 24
        }
      ]
    },
    {
      "cell_type": "code",
      "source": [
        "from tensorflow.keras.layers import Input, Conv1D, BatchNormalization, Dense\n",
        "from tensorflow.keras.layers import AvgPool1D, GlobalAveragePooling1D, MaxPooling1D\n",
        "model = Sequential()\n",
        "model.add(Conv1D(32, 3, input_shape=(42,1)))\n",
        "model.add(Conv1D(32, 3, activation='relu', padding='causal'))\n",
        "model.add(Dropout(0.25))\n",
        "model.add(Conv1D(64, 3, activation='relu', padding='causal'))\n",
        "model.add(Dropout(0.25))\n",
        "model.add(MaxPooling1D(pool_size=2))\n",
        "#model.add(LSTM(64,recurrent_dropout=0.1))\n",
        "model.add(Flatten())\n",
        "model.add(Dense(64,activation='relu'))\n",
        "model.add(Dropout(0.25))\n",
        "model.add(Dense(32,activation='relu'))\n",
        "model.add(Dense(10,activation='softmax'))\n",
        "model.compile(optimizer=keras.optimizers.Adam(), loss='categorical_crossentropy', metrics=['accuracy', Precision(), Recall()])\n",
        "history = model.fit(X_train, y_train, \n",
        "                    validation_data=(X_test, y_test), epochs=100, batch_size=2048)"
      ],
      "metadata": {
        "colab": {
          "base_uri": "https://localhost:8080/"
        },
        "id": "sMAEKvGOrWYb",
        "outputId": "ee94f382-c63f-4482-f5d6-ce6d7f0f0b9c"
      },
      "execution_count": null,
      "outputs": [
        {
          "output_type": "stream",
          "name": "stdout",
          "text": [
            "Epoch 1/100\n",
            "86/86 [==============================] - 33s 373ms/step - loss: 1.1638 - accuracy: 0.6050 - precision_1: 0.8857 - recall_1: 0.4158 - val_loss: 0.8585 - val_accuracy: 0.6524 - val_precision_1: 0.9080 - val_recall_1: 0.5228\n",
            "Epoch 2/100\n",
            "86/86 [==============================] - 35s 411ms/step - loss: 0.7302 - accuracy: 0.7317 - precision_1: 0.8996 - recall_1: 0.5915 - val_loss: 0.7345 - val_accuracy: 0.6720 - val_precision_1: 0.8638 - val_recall_1: 0.5684\n",
            "Epoch 3/100\n",
            "86/86 [==============================] - 31s 359ms/step - loss: 0.6617 - accuracy: 0.7516 - precision_1: 0.8847 - recall_1: 0.6229 - val_loss: 0.6574 - val_accuracy: 0.7194 - val_precision_1: 0.8889 - val_recall_1: 0.6120\n",
            "Epoch 4/100\n",
            "86/86 [==============================] - 31s 364ms/step - loss: 0.6298 - accuracy: 0.7605 - precision_1: 0.8765 - recall_1: 0.6439 - val_loss: 0.6294 - val_accuracy: 0.7406 - val_precision_1: 0.8944 - val_recall_1: 0.6318\n",
            "Epoch 5/100\n",
            "86/86 [==============================] - 32s 372ms/step - loss: 0.6090 - accuracy: 0.7683 - precision_1: 0.8759 - recall_1: 0.6580 - val_loss: 0.6364 - val_accuracy: 0.7520 - val_precision_1: 0.8800 - val_recall_1: 0.6610\n",
            "Epoch 6/100\n",
            "86/86 [==============================] - 31s 355ms/step - loss: 0.5975 - accuracy: 0.7725 - precision_1: 0.8777 - recall_1: 0.6652 - val_loss: 0.6134 - val_accuracy: 0.7344 - val_precision_1: 0.8600 - val_recall_1: 0.6403\n",
            "Epoch 7/100\n",
            "86/86 [==============================] - 31s 357ms/step - loss: 0.5876 - accuracy: 0.7751 - precision_1: 0.8782 - recall_1: 0.6707 - val_loss: 0.6160 - val_accuracy: 0.7321 - val_precision_1: 0.8477 - val_recall_1: 0.6427\n",
            "Epoch 8/100\n",
            "86/86 [==============================] - 31s 358ms/step - loss: 0.5788 - accuracy: 0.7776 - precision_1: 0.8788 - recall_1: 0.6754 - val_loss: 0.6209 - val_accuracy: 0.7382 - val_precision_1: 0.8413 - val_recall_1: 0.6594\n",
            "Epoch 9/100\n",
            "86/86 [==============================] - 31s 358ms/step - loss: 0.5705 - accuracy: 0.7808 - precision_1: 0.8792 - recall_1: 0.6820 - val_loss: 0.5968 - val_accuracy: 0.7336 - val_precision_1: 0.8440 - val_recall_1: 0.6548\n",
            "Epoch 10/100\n",
            "86/86 [==============================] - 31s 357ms/step - loss: 0.5655 - accuracy: 0.7831 - precision_1: 0.8797 - recall_1: 0.6833 - val_loss: 0.6190 - val_accuracy: 0.7233 - val_precision_1: 0.8215 - val_recall_1: 0.6485\n",
            "Epoch 11/100\n",
            "86/86 [==============================] - 31s 356ms/step - loss: 0.5593 - accuracy: 0.7840 - precision_1: 0.8791 - recall_1: 0.6873 - val_loss: 0.6200 - val_accuracy: 0.7101 - val_precision_1: 0.8029 - val_recall_1: 0.6441\n",
            "Epoch 12/100\n",
            "86/86 [==============================] - 31s 356ms/step - loss: 0.5538 - accuracy: 0.7850 - precision_1: 0.8824 - recall_1: 0.6880 - val_loss: 0.6427 - val_accuracy: 0.7072 - val_precision_1: 0.8028 - val_recall_1: 0.6424\n",
            "Epoch 13/100\n",
            "86/86 [==============================] - 31s 357ms/step - loss: 0.5510 - accuracy: 0.7857 - precision_1: 0.8806 - recall_1: 0.6897 - val_loss: 0.6117 - val_accuracy: 0.7275 - val_precision_1: 0.8198 - val_recall_1: 0.6603\n",
            "Epoch 14/100\n",
            "86/86 [==============================] - 31s 358ms/step - loss: 0.5482 - accuracy: 0.7875 - precision_1: 0.8822 - recall_1: 0.6920 - val_loss: 0.6049 - val_accuracy: 0.7173 - val_precision_1: 0.7983 - val_recall_1: 0.6574\n",
            "Epoch 15/100\n",
            "86/86 [==============================] - 31s 358ms/step - loss: 0.5445 - accuracy: 0.7885 - precision_1: 0.8838 - recall_1: 0.6931 - val_loss: 0.6101 - val_accuracy: 0.7254 - val_precision_1: 0.8162 - val_recall_1: 0.6645\n",
            "Epoch 16/100\n",
            "86/86 [==============================] - 31s 358ms/step - loss: 0.5408 - accuracy: 0.7893 - precision_1: 0.8842 - recall_1: 0.6940 - val_loss: 0.6197 - val_accuracy: 0.7271 - val_precision_1: 0.8115 - val_recall_1: 0.6683\n",
            "Epoch 17/100\n",
            "86/86 [==============================] - 31s 358ms/step - loss: 0.5397 - accuracy: 0.7904 - precision_1: 0.8843 - recall_1: 0.6954 - val_loss: 0.6223 - val_accuracy: 0.7181 - val_precision_1: 0.8035 - val_recall_1: 0.6603\n",
            "Epoch 18/100\n",
            "86/86 [==============================] - 31s 357ms/step - loss: 0.5365 - accuracy: 0.7913 - precision_1: 0.8840 - recall_1: 0.6982 - val_loss: 0.6215 - val_accuracy: 0.7175 - val_precision_1: 0.8078 - val_recall_1: 0.6557\n",
            "Epoch 19/100\n",
            "86/86 [==============================] - 31s 356ms/step - loss: 0.5345 - accuracy: 0.7913 - precision_1: 0.8843 - recall_1: 0.6970 - val_loss: 0.6341 - val_accuracy: 0.7233 - val_precision_1: 0.8088 - val_recall_1: 0.6603\n",
            "Epoch 20/100\n",
            "86/86 [==============================] - 31s 357ms/step - loss: 0.5328 - accuracy: 0.7916 - precision_1: 0.8841 - recall_1: 0.6985 - val_loss: 0.6033 - val_accuracy: 0.7281 - val_precision_1: 0.7997 - val_recall_1: 0.6703\n",
            "Epoch 21/100\n",
            "86/86 [==============================] - 31s 356ms/step - loss: 0.5308 - accuracy: 0.7919 - precision_1: 0.8842 - recall_1: 0.7001 - val_loss: 0.5853 - val_accuracy: 0.7362 - val_precision_1: 0.8145 - val_recall_1: 0.6744\n",
            "Epoch 22/100\n",
            "86/86 [==============================] - 31s 358ms/step - loss: 0.5297 - accuracy: 0.7922 - precision_1: 0.8853 - recall_1: 0.6990 - val_loss: 0.6283 - val_accuracy: 0.7056 - val_precision_1: 0.7753 - val_recall_1: 0.6511\n",
            "Epoch 23/100\n",
            "86/86 [==============================] - 31s 358ms/step - loss: 0.5277 - accuracy: 0.7928 - precision_1: 0.8835 - recall_1: 0.7022 - val_loss: 0.6018 - val_accuracy: 0.7354 - val_precision_1: 0.8082 - val_recall_1: 0.6788\n",
            "Epoch 24/100\n",
            "86/86 [==============================] - 31s 359ms/step - loss: 0.5251 - accuracy: 0.7936 - precision_1: 0.8860 - recall_1: 0.7006 - val_loss: 0.6143 - val_accuracy: 0.7326 - val_precision_1: 0.8082 - val_recall_1: 0.6782\n",
            "Epoch 25/100\n",
            "86/86 [==============================] - 30s 355ms/step - loss: 0.5241 - accuracy: 0.7940 - precision_1: 0.8865 - recall_1: 0.7014 - val_loss: 0.6060 - val_accuracy: 0.7266 - val_precision_1: 0.8064 - val_recall_1: 0.6629\n",
            "Epoch 26/100\n",
            "86/86 [==============================] - 31s 356ms/step - loss: 0.5239 - accuracy: 0.7932 - precision_1: 0.8870 - recall_1: 0.7003 - val_loss: 0.6056 - val_accuracy: 0.7374 - val_precision_1: 0.8176 - val_recall_1: 0.6810\n",
            "Epoch 27/100\n",
            "86/86 [==============================] - 30s 355ms/step - loss: 0.5210 - accuracy: 0.7949 - precision_1: 0.8851 - recall_1: 0.7037 - val_loss: 0.6151 - val_accuracy: 0.7348 - val_precision_1: 0.8113 - val_recall_1: 0.6811\n",
            "Epoch 28/100\n",
            "86/86 [==============================] - 30s 355ms/step - loss: 0.5205 - accuracy: 0.7945 - precision_1: 0.8863 - recall_1: 0.7031 - val_loss: 0.6180 - val_accuracy: 0.7201 - val_precision_1: 0.7968 - val_recall_1: 0.6649\n",
            "Epoch 29/100\n",
            "86/86 [==============================] - 31s 356ms/step - loss: 0.5192 - accuracy: 0.7942 - precision_1: 0.8861 - recall_1: 0.7029 - val_loss: 0.5739 - val_accuracy: 0.7558 - val_precision_1: 0.8412 - val_recall_1: 0.6851\n",
            "Epoch 30/100\n",
            "86/86 [==============================] - 31s 356ms/step - loss: 0.5172 - accuracy: 0.7951 - precision_1: 0.8881 - recall_1: 0.7037 - val_loss: 0.6197 - val_accuracy: 0.7184 - val_precision_1: 0.7970 - val_recall_1: 0.6539\n",
            "Epoch 31/100\n",
            "86/86 [==============================] - 30s 353ms/step - loss: 0.5160 - accuracy: 0.7952 - precision_1: 0.8865 - recall_1: 0.7047 - val_loss: 0.6147 - val_accuracy: 0.7233 - val_precision_1: 0.8025 - val_recall_1: 0.6609\n",
            "Epoch 32/100\n",
            "86/86 [==============================] - 30s 355ms/step - loss: 0.5157 - accuracy: 0.7954 - precision_1: 0.8874 - recall_1: 0.7045 - val_loss: 0.5947 - val_accuracy: 0.7459 - val_precision_1: 0.8342 - val_recall_1: 0.6773\n",
            "Epoch 33/100\n",
            "86/86 [==============================] - 30s 353ms/step - loss: 0.5135 - accuracy: 0.7955 - precision_1: 0.8872 - recall_1: 0.7051 - val_loss: 0.6078 - val_accuracy: 0.7323 - val_precision_1: 0.8102 - val_recall_1: 0.6632\n",
            "Epoch 34/100\n",
            "86/86 [==============================] - 30s 353ms/step - loss: 0.5136 - accuracy: 0.7960 - precision_1: 0.8880 - recall_1: 0.7048 - val_loss: 0.6033 - val_accuracy: 0.7432 - val_precision_1: 0.8298 - val_recall_1: 0.6722\n",
            "Epoch 35/100\n",
            "86/86 [==============================] - 30s 355ms/step - loss: 0.5125 - accuracy: 0.7968 - precision_1: 0.8878 - recall_1: 0.7065 - val_loss: 0.6138 - val_accuracy: 0.7211 - val_precision_1: 0.7926 - val_recall_1: 0.6599\n",
            "Epoch 36/100\n",
            "86/86 [==============================] - 30s 354ms/step - loss: 0.5100 - accuracy: 0.7964 - precision_1: 0.8878 - recall_1: 0.7073 - val_loss: 0.5988 - val_accuracy: 0.7389 - val_precision_1: 0.8235 - val_recall_1: 0.6691\n",
            "Epoch 37/100\n",
            "86/86 [==============================] - 30s 352ms/step - loss: 0.5092 - accuracy: 0.7969 - precision_1: 0.8856 - recall_1: 0.7101 - val_loss: 0.6330 - val_accuracy: 0.7230 - val_precision_1: 0.8118 - val_recall_1: 0.6663\n",
            "Epoch 38/100\n",
            "86/86 [==============================] - 30s 353ms/step - loss: 0.5096 - accuracy: 0.7973 - precision_1: 0.8880 - recall_1: 0.7069 - val_loss: 0.6185 - val_accuracy: 0.7325 - val_precision_1: 0.8357 - val_recall_1: 0.6712\n",
            "Epoch 39/100\n",
            "86/86 [==============================] - 30s 353ms/step - loss: 0.5082 - accuracy: 0.7970 - precision_1: 0.8883 - recall_1: 0.7092 - val_loss: 0.6170 - val_accuracy: 0.7335 - val_precision_1: 0.8304 - val_recall_1: 0.6654\n",
            "Epoch 40/100\n",
            "86/86 [==============================] - 30s 352ms/step - loss: 0.5064 - accuracy: 0.7977 - precision_1: 0.8865 - recall_1: 0.7102 - val_loss: 0.6028 - val_accuracy: 0.7353 - val_precision_1: 0.8234 - val_recall_1: 0.6720\n",
            "Epoch 41/100\n",
            "86/86 [==============================] - 31s 357ms/step - loss: 0.5060 - accuracy: 0.7976 - precision_1: 0.8864 - recall_1: 0.7106 - val_loss: 0.6251 - val_accuracy: 0.7299 - val_precision_1: 0.8187 - val_recall_1: 0.6644\n",
            "Epoch 42/100\n",
            "86/86 [==============================] - 30s 355ms/step - loss: 0.5058 - accuracy: 0.7975 - precision_1: 0.8900 - recall_1: 0.7082 - val_loss: 0.6577 - val_accuracy: 0.7116 - val_precision_1: 0.7846 - val_recall_1: 0.6524\n",
            "Epoch 43/100\n",
            "86/86 [==============================] - 30s 354ms/step - loss: 0.5039 - accuracy: 0.7983 - precision_1: 0.8876 - recall_1: 0.7108 - val_loss: 0.6384 - val_accuracy: 0.7215 - val_precision_1: 0.8089 - val_recall_1: 0.6657\n",
            "Epoch 44/100\n",
            "86/86 [==============================] - 30s 354ms/step - loss: 0.5030 - accuracy: 0.7987 - precision_1: 0.8875 - recall_1: 0.7121 - val_loss: 0.6783 - val_accuracy: 0.7084 - val_precision_1: 0.7896 - val_recall_1: 0.6514\n",
            "Epoch 45/100\n",
            "86/86 [==============================] - 30s 354ms/step - loss: 0.5029 - accuracy: 0.7985 - precision_1: 0.8884 - recall_1: 0.7110 - val_loss: 0.6699 - val_accuracy: 0.7195 - val_precision_1: 0.7986 - val_recall_1: 0.6576\n",
            "Epoch 46/100\n",
            "86/86 [==============================] - 31s 355ms/step - loss: 0.5012 - accuracy: 0.7993 - precision_1: 0.8892 - recall_1: 0.7108 - val_loss: 0.6780 - val_accuracy: 0.7141 - val_precision_1: 0.7899 - val_recall_1: 0.6575\n",
            "Epoch 47/100\n",
            "86/86 [==============================] - 30s 355ms/step - loss: 0.5015 - accuracy: 0.8001 - precision_1: 0.8906 - recall_1: 0.7115 - val_loss: 0.6684 - val_accuracy: 0.7232 - val_precision_1: 0.8043 - val_recall_1: 0.6604\n",
            "Epoch 48/100\n",
            "86/86 [==============================] - 30s 353ms/step - loss: 0.5000 - accuracy: 0.7999 - precision_1: 0.8916 - recall_1: 0.7101 - val_loss: 0.6759 - val_accuracy: 0.7112 - val_precision_1: 0.7917 - val_recall_1: 0.6536\n",
            "Epoch 49/100\n",
            "86/86 [==============================] - 30s 351ms/step - loss: 0.4990 - accuracy: 0.8005 - precision_1: 0.8925 - recall_1: 0.7111 - val_loss: 0.7115 - val_accuracy: 0.6947 - val_precision_1: 0.7742 - val_recall_1: 0.6341\n",
            "Epoch 50/100\n",
            "86/86 [==============================] - 30s 352ms/step - loss: 0.4985 - accuracy: 0.8009 - precision_1: 0.8909 - recall_1: 0.7132 - val_loss: 0.7083 - val_accuracy: 0.7021 - val_precision_1: 0.7824 - val_recall_1: 0.6370\n",
            "Epoch 51/100\n",
            "86/86 [==============================] - 30s 353ms/step - loss: 0.4982 - accuracy: 0.8007 - precision_1: 0.8934 - recall_1: 0.7113 - val_loss: 0.7516 - val_accuracy: 0.6871 - val_precision_1: 0.7557 - val_recall_1: 0.6313\n",
            "Epoch 52/100\n",
            "86/86 [==============================] - 30s 353ms/step - loss: 0.4967 - accuracy: 0.8004 - precision_1: 0.8914 - recall_1: 0.7123 - val_loss: 0.7763 - val_accuracy: 0.6995 - val_precision_1: 0.7751 - val_recall_1: 0.6413\n",
            "Epoch 53/100\n",
            "86/86 [==============================] - 30s 352ms/step - loss: 0.4974 - accuracy: 0.8008 - precision_1: 0.8923 - recall_1: 0.7121 - val_loss: 0.7691 - val_accuracy: 0.6819 - val_precision_1: 0.7573 - val_recall_1: 0.6203\n",
            "Epoch 54/100\n",
            "86/86 [==============================] - 30s 355ms/step - loss: 0.4950 - accuracy: 0.8009 - precision_1: 0.8931 - recall_1: 0.7124 - val_loss: 0.7403 - val_accuracy: 0.7001 - val_precision_1: 0.7831 - val_recall_1: 0.6411\n",
            "Epoch 55/100\n",
            "86/86 [==============================] - 30s 354ms/step - loss: 0.4947 - accuracy: 0.8013 - precision_1: 0.8923 - recall_1: 0.7147 - val_loss: 0.7889 - val_accuracy: 0.6786 - val_precision_1: 0.7520 - val_recall_1: 0.6199\n",
            "Epoch 56/100\n",
            "86/86 [==============================] - 31s 356ms/step - loss: 0.4949 - accuracy: 0.8016 - precision_1: 0.8933 - recall_1: 0.7136 - val_loss: 0.7930 - val_accuracy: 0.6924 - val_precision_1: 0.7735 - val_recall_1: 0.6293\n",
            "Epoch 57/100\n",
            "86/86 [==============================] - 30s 353ms/step - loss: 0.4939 - accuracy: 0.8022 - precision_1: 0.8937 - recall_1: 0.7139 - val_loss: 0.7804 - val_accuracy: 0.7004 - val_precision_1: 0.7819 - val_recall_1: 0.6470\n",
            "Epoch 58/100\n",
            "86/86 [==============================] - 30s 352ms/step - loss: 0.4948 - accuracy: 0.8020 - precision_1: 0.8922 - recall_1: 0.7159 - val_loss: 0.8236 - val_accuracy: 0.6792 - val_precision_1: 0.7526 - val_recall_1: 0.6238\n",
            "Epoch 59/100\n",
            "86/86 [==============================] - 30s 353ms/step - loss: 0.4934 - accuracy: 0.8022 - precision_1: 0.8929 - recall_1: 0.7142 - val_loss: 0.7812 - val_accuracy: 0.6897 - val_precision_1: 0.7601 - val_recall_1: 0.6312\n",
            "Epoch 60/100\n",
            "86/86 [==============================] - 30s 354ms/step - loss: 0.4930 - accuracy: 0.8023 - precision_1: 0.8939 - recall_1: 0.7131 - val_loss: 0.7353 - val_accuracy: 0.6852 - val_precision_1: 0.7589 - val_recall_1: 0.6270\n",
            "Epoch 61/100\n",
            "86/86 [==============================] - 30s 352ms/step - loss: 0.4920 - accuracy: 0.8029 - precision_1: 0.8912 - recall_1: 0.7165 - val_loss: 0.7624 - val_accuracy: 0.6994 - val_precision_1: 0.7710 - val_recall_1: 0.6403\n",
            "Epoch 62/100\n",
            "86/86 [==============================] - 30s 354ms/step - loss: 0.4917 - accuracy: 0.8025 - precision_1: 0.8952 - recall_1: 0.7133 - val_loss: 0.8135 - val_accuracy: 0.6852 - val_precision_1: 0.7550 - val_recall_1: 0.6297\n",
            "Epoch 63/100\n",
            "86/86 [==============================] - 30s 355ms/step - loss: 0.4910 - accuracy: 0.8028 - precision_1: 0.8905 - recall_1: 0.7177 - val_loss: 0.8133 - val_accuracy: 0.6923 - val_precision_1: 0.7623 - val_recall_1: 0.6332\n",
            "Epoch 64/100\n",
            "86/86 [==============================] - 30s 354ms/step - loss: 0.4908 - accuracy: 0.8028 - precision_1: 0.8935 - recall_1: 0.7161 - val_loss: 0.8336 - val_accuracy: 0.6905 - val_precision_1: 0.7614 - val_recall_1: 0.6341\n",
            "Epoch 65/100\n",
            "86/86 [==============================] - 30s 353ms/step - loss: 0.4915 - accuracy: 0.8028 - precision_1: 0.8939 - recall_1: 0.7149 - val_loss: 0.7848 - val_accuracy: 0.6897 - val_precision_1: 0.7599 - val_recall_1: 0.6344\n",
            "Epoch 66/100\n",
            "86/86 [==============================] - 30s 353ms/step - loss: 0.4897 - accuracy: 0.8038 - precision_1: 0.8944 - recall_1: 0.7162 - val_loss: 0.8379 - val_accuracy: 0.6966 - val_precision_1: 0.7721 - val_recall_1: 0.6401\n",
            "Epoch 67/100\n",
            "86/86 [==============================] - 30s 354ms/step - loss: 0.4899 - accuracy: 0.8035 - precision_1: 0.8936 - recall_1: 0.7160 - val_loss: 0.8255 - val_accuracy: 0.6934 - val_precision_1: 0.7601 - val_recall_1: 0.6359\n",
            "Epoch 68/100\n",
            "86/86 [==============================] - 30s 354ms/step - loss: 0.4883 - accuracy: 0.8038 - precision_1: 0.8937 - recall_1: 0.7174 - val_loss: 0.8315 - val_accuracy: 0.6893 - val_precision_1: 0.7567 - val_recall_1: 0.6312\n",
            "Epoch 69/100\n",
            "86/86 [==============================] - 30s 353ms/step - loss: 0.4878 - accuracy: 0.8046 - precision_1: 0.8943 - recall_1: 0.7179 - val_loss: 0.8140 - val_accuracy: 0.6964 - val_precision_1: 0.7595 - val_recall_1: 0.6397\n",
            "Epoch 70/100\n",
            "86/86 [==============================] - 30s 354ms/step - loss: 0.4875 - accuracy: 0.8042 - precision_1: 0.8924 - recall_1: 0.7181 - val_loss: 0.8314 - val_accuracy: 0.7035 - val_precision_1: 0.7694 - val_recall_1: 0.6457\n",
            "Epoch 71/100\n",
            "86/86 [==============================] - 30s 353ms/step - loss: 0.4867 - accuracy: 0.8041 - precision_1: 0.8935 - recall_1: 0.7179 - val_loss: 0.8261 - val_accuracy: 0.6970 - val_precision_1: 0.7691 - val_recall_1: 0.6418\n",
            "Epoch 72/100\n",
            "86/86 [==============================] - 30s 354ms/step - loss: 0.4863 - accuracy: 0.8046 - precision_1: 0.8944 - recall_1: 0.7177 - val_loss: 0.8317 - val_accuracy: 0.6851 - val_precision_1: 0.7465 - val_recall_1: 0.6288\n",
            "Epoch 73/100\n",
            "86/86 [==============================] - 30s 354ms/step - loss: 0.4861 - accuracy: 0.8047 - precision_1: 0.8954 - recall_1: 0.7183 - val_loss: 0.8526 - val_accuracy: 0.7052 - val_precision_1: 0.7751 - val_recall_1: 0.6495\n",
            "Epoch 74/100\n",
            "86/86 [==============================] - 30s 353ms/step - loss: 0.4860 - accuracy: 0.8044 - precision_1: 0.8953 - recall_1: 0.7165 - val_loss: 0.8454 - val_accuracy: 0.7068 - val_precision_1: 0.7768 - val_recall_1: 0.6496\n",
            "Epoch 75/100\n",
            "86/86 [==============================] - 30s 353ms/step - loss: 0.4847 - accuracy: 0.8052 - precision_1: 0.8935 - recall_1: 0.7198 - val_loss: 0.8570 - val_accuracy: 0.7197 - val_precision_1: 0.8062 - val_recall_1: 0.6608\n",
            "Epoch 76/100\n",
            "86/86 [==============================] - 30s 353ms/step - loss: 0.4846 - accuracy: 0.8049 - precision_1: 0.8949 - recall_1: 0.7175 - val_loss: 0.8571 - val_accuracy: 0.6914 - val_precision_1: 0.7548 - val_recall_1: 0.6375\n",
            "Epoch 77/100\n",
            "86/86 [==============================] - 30s 351ms/step - loss: 0.4843 - accuracy: 0.8059 - precision_1: 0.8958 - recall_1: 0.7193 - val_loss: 0.8626 - val_accuracy: 0.6954 - val_precision_1: 0.7628 - val_recall_1: 0.6383\n",
            "Epoch 78/100\n",
            "86/86 [==============================] - 30s 353ms/step - loss: 0.4853 - accuracy: 0.8045 - precision_1: 0.8946 - recall_1: 0.7180 - val_loss: 0.8694 - val_accuracy: 0.7072 - val_precision_1: 0.7799 - val_recall_1: 0.6523\n",
            "Epoch 79/100\n",
            "86/86 [==============================] - 30s 352ms/step - loss: 0.4845 - accuracy: 0.8057 - precision_1: 0.8939 - recall_1: 0.7196 - val_loss: 0.9090 - val_accuracy: 0.6947 - val_precision_1: 0.7621 - val_recall_1: 0.6379\n",
            "Epoch 80/100\n",
            "86/86 [==============================] - 30s 354ms/step - loss: 0.4840 - accuracy: 0.8057 - precision_1: 0.8947 - recall_1: 0.7195 - val_loss: 0.8733 - val_accuracy: 0.6915 - val_precision_1: 0.7559 - val_recall_1: 0.6351\n",
            "Epoch 81/100\n",
            "86/86 [==============================] - 30s 355ms/step - loss: 0.4827 - accuracy: 0.8059 - precision_1: 0.8951 - recall_1: 0.7195 - val_loss: 0.9091 - val_accuracy: 0.7197 - val_precision_1: 0.8003 - val_recall_1: 0.6594\n",
            "Epoch 82/100\n",
            "86/86 [==============================] - 30s 355ms/step - loss: 0.4823 - accuracy: 0.8064 - precision_1: 0.8960 - recall_1: 0.7196 - val_loss: 0.8669 - val_accuracy: 0.7181 - val_precision_1: 0.7939 - val_recall_1: 0.6637\n",
            "Epoch 83/100\n",
            "86/86 [==============================] - 30s 353ms/step - loss: 0.4827 - accuracy: 0.8053 - precision_1: 0.8959 - recall_1: 0.7188 - val_loss: 0.8826 - val_accuracy: 0.7400 - val_precision_1: 0.8257 - val_recall_1: 0.6830\n",
            "Epoch 84/100\n",
            "86/86 [==============================] - 30s 352ms/step - loss: 0.4818 - accuracy: 0.8063 - precision_1: 0.8973 - recall_1: 0.7190 - val_loss: 0.8985 - val_accuracy: 0.6896 - val_precision_1: 0.7480 - val_recall_1: 0.6367\n",
            "Epoch 85/100\n",
            "86/86 [==============================] - 30s 353ms/step - loss: 0.4814 - accuracy: 0.8062 - precision_1: 0.8961 - recall_1: 0.7197 - val_loss: 0.9529 - val_accuracy: 0.6925 - val_precision_1: 0.7667 - val_recall_1: 0.6367\n",
            "Epoch 86/100\n",
            "86/86 [==============================] - 30s 352ms/step - loss: 0.4816 - accuracy: 0.8068 - precision_1: 0.8982 - recall_1: 0.7189 - val_loss: 0.8983 - val_accuracy: 0.6959 - val_precision_1: 0.7643 - val_recall_1: 0.6419\n",
            "Epoch 87/100\n",
            "86/86 [==============================] - 30s 352ms/step - loss: 0.4818 - accuracy: 0.8062 - precision_1: 0.8952 - recall_1: 0.7204 - val_loss: 0.8847 - val_accuracy: 0.6941 - val_precision_1: 0.7588 - val_recall_1: 0.6387\n",
            "Epoch 88/100\n",
            "86/86 [==============================] - 30s 352ms/step - loss: 0.4813 - accuracy: 0.8059 - precision_1: 0.8959 - recall_1: 0.7200 - val_loss: 0.8751 - val_accuracy: 0.6972 - val_precision_1: 0.7586 - val_recall_1: 0.6415\n",
            "Epoch 89/100\n",
            "86/86 [==============================] - 30s 351ms/step - loss: 0.4806 - accuracy: 0.8064 - precision_1: 0.8966 - recall_1: 0.7201 - val_loss: 0.8755 - val_accuracy: 0.7175 - val_precision_1: 0.7844 - val_recall_1: 0.6650\n",
            "Epoch 90/100\n",
            "86/86 [==============================] - 30s 352ms/step - loss: 0.4791 - accuracy: 0.8071 - precision_1: 0.8974 - recall_1: 0.7202 - val_loss: 0.8835 - val_accuracy: 0.6916 - val_precision_1: 0.7529 - val_recall_1: 0.6400\n",
            "Epoch 91/100\n",
            "86/86 [==============================] - 30s 352ms/step - loss: 0.4790 - accuracy: 0.8070 - precision_1: 0.8957 - recall_1: 0.7219 - val_loss: 0.8665 - val_accuracy: 0.7107 - val_precision_1: 0.7815 - val_recall_1: 0.6535\n",
            "Epoch 92/100\n",
            "86/86 [==============================] - 30s 352ms/step - loss: 0.4794 - accuracy: 0.8069 - precision_1: 0.8973 - recall_1: 0.7209 - val_loss: 0.8451 - val_accuracy: 0.7143 - val_precision_1: 0.7772 - val_recall_1: 0.6592\n",
            "Epoch 93/100\n",
            "86/86 [==============================] - 30s 350ms/step - loss: 0.4789 - accuracy: 0.8068 - precision_1: 0.8974 - recall_1: 0.7202 - val_loss: 0.8282 - val_accuracy: 0.7009 - val_precision_1: 0.7680 - val_recall_1: 0.6450\n",
            "Epoch 94/100\n",
            "86/86 [==============================] - 30s 352ms/step - loss: 0.4791 - accuracy: 0.8068 - precision_1: 0.8968 - recall_1: 0.7199 - val_loss: 0.8521 - val_accuracy: 0.7318 - val_precision_1: 0.8047 - val_recall_1: 0.6731\n",
            "Epoch 95/100\n",
            "86/86 [==============================] - 30s 352ms/step - loss: 0.4783 - accuracy: 0.8076 - precision_1: 0.8988 - recall_1: 0.7208 - val_loss: 0.8616 - val_accuracy: 0.7234 - val_precision_1: 0.7979 - val_recall_1: 0.6707\n",
            "Epoch 96/100\n",
            "86/86 [==============================] - 30s 350ms/step - loss: 0.4783 - accuracy: 0.8074 - precision_1: 0.8961 - recall_1: 0.7223 - val_loss: 0.8436 - val_accuracy: 0.7298 - val_precision_1: 0.8037 - val_recall_1: 0.6712\n",
            "Epoch 97/100\n",
            "86/86 [==============================] - 30s 350ms/step - loss: 0.4778 - accuracy: 0.8070 - precision_1: 0.8942 - recall_1: 0.7237 - val_loss: 0.8463 - val_accuracy: 0.7282 - val_precision_1: 0.7986 - val_recall_1: 0.6723\n",
            "Epoch 98/100\n",
            "86/86 [==============================] - 30s 351ms/step - loss: 0.4780 - accuracy: 0.8070 - precision_1: 0.8949 - recall_1: 0.7234 - val_loss: 0.8430 - val_accuracy: 0.7205 - val_precision_1: 0.7884 - val_recall_1: 0.6676\n",
            "Epoch 99/100\n",
            "86/86 [==============================] - 30s 353ms/step - loss: 0.4784 - accuracy: 0.8071 - precision_1: 0.8968 - recall_1: 0.7219 - val_loss: 0.8540 - val_accuracy: 0.7235 - val_precision_1: 0.8014 - val_recall_1: 0.6656\n",
            "Epoch 100/100\n",
            "86/86 [==============================] - 30s 355ms/step - loss: 0.4772 - accuracy: 0.8076 - precision_1: 0.8958 - recall_1: 0.7230 - val_loss: 0.8336 - val_accuracy: 0.7161 - val_precision_1: 0.7825 - val_recall_1: 0.6626\n"
          ]
        }
      ]
    },
    {
      "cell_type": "code",
      "source": [
        "history2=model.fit(X_test, y_test, \n",
        "                    validation_data=(X_train, y_train), epochs=100, batch_size=2048)"
      ],
      "metadata": {
        "id": "CrF_lL7IsB6L"
      },
      "execution_count": null,
      "outputs": []
    },
    {
      "cell_type": "code",
      "source": [
        "Name=\"CyberNet\""
      ],
      "metadata": {
        "id": "-Muz-CowtUyD"
      },
      "execution_count": null,
      "outputs": []
    },
    {
      "cell_type": "code",
      "source": [
        "plt.plot(history.history['accuracy'])\n",
        "plt.plot(history.history['val_accuracy'])\n",
        "plt.title('Model accuracy')\n",
        "plt.ylabel('Accuracy')\n",
        "plt.xlabel('Epoch')\n",
        "plt.legend(['Train', 'Test'], loc='lower left')\n",
        "plt.savefig(Name+'acc.png')\n",
        "plt.show()\n",
        "\n",
        "plt.plot(history.history['loss'])\n",
        "plt.plot(history.history['val_loss'])\n",
        "plt.title('Model loss')\n",
        "plt.ylabel('Loss')\n",
        "plt.xlabel('Epoch')\n",
        "plt.legend(['Train', 'Test'], loc='upper left')\n",
        "plt.savefig(Name+'loss.png')\n",
        "plt.show()\n",
        "\n",
        "\n",
        "#pd.DataFrame.from_dict(history2.history).to_csv(Name+'.csv',index=False)\n",
        "pd.DataFrame.from_dict(history.history).to_csv('attack detection/'+Name+'.csv',index=False)"
      ],
      "metadata": {
        "id": "65obdHoXs9qs",
        "colab": {
          "base_uri": "https://localhost:8080/",
          "height": 573
        },
        "outputId": "eb0dfc8d-8a86-4712-c5bd-615d9d0851b8"
      },
      "execution_count": null,
      "outputs": [
        {
          "output_type": "display_data",
          "data": {
            "text/plain": [
              "<Figure size 432x288 with 1 Axes>"
            ],
            "image/png": "[encoded data removed]"
          },
          "metadata": {
            "needs_background": "light"
          }
        },
        {
          "output_type": "display_data",
          "data": {
            "text/plain": [
              "<Figure size 432x288 with 1 Axes>"
            ],
            "image/png": "[encoded data removed]"
          },
          "metadata": {
            "needs_background": "light"
          }
        }
      ]
    },
    {
      "cell_type": "code",
      "source": [
        "model.save('attack detection/'+Name+'.h5')"
      ],
      "metadata": {
        "id": "SriEc_DngxBP"
      },
      "execution_count": null,
      "outputs": []
    },
    {
      "cell_type": "code",
      "source": [],
      "metadata": {
        "id": "cyVuOQ4kgw7d"
      },
      "execution_count": null,
      "outputs": []
    },
    {
      "cell_type": "code",
      "source": [
        "!pip install tensorflowjs\n"
      ],
      "metadata": {
        "colab": {
          "base_uri": "https://localhost:8080/",
          "height": 1000
        },
        "id": "JYrVVd7sfbrI",
        "outputId": "75df577b-3a67-4204-ba87-07076e4ff570"
      },
      "execution_count": null,
      "outputs": [
        {
          "output_type": "stream",
          "name": "stdout",
          "text": [
            "Looking in indexes: https://pypi.org/simple, https://us-python.pkg.dev/colab-wheels/public/simple/\n",
            "Collecting tensorflowjs\n",
            "  Downloading tensorflowjs-3.20.0-py3-none-any.whl (81 kB)\n",
            "\u001b[K     |████████████████████████████████| 81 kB 4.0 MB/s \n",
            "\u001b[?25hRequirement already satisfied: tensorflow<3,>=2.1.0 in /usr/local/lib/python3.7/dist-packages (from tensorflowjs) (2.8.2+zzzcolab20220719082949)\n",
            "Requirement already satisfied: jax>=0.3.16 in /usr/local/lib/python3.7/dist-packages (from tensorflowjs) (0.3.17)\n",
            "Collecting packaging~=20.9\n",
            "  Downloading packaging-20.9-py2.py3-none-any.whl (40 kB)\n",
            "\u001b[K     |████████████████████████████████| 40 kB 6.4 MB/s \n",
            "\u001b[?25hRequirement already satisfied: tensorflow-hub<0.13,>=0.7.0 in /usr/local/lib/python3.7/dist-packages (from tensorflowjs) (0.12.0)\n",
            "Collecting flax>=0.5.3\n",
            "  Downloading flax-0.6.0-py3-none-any.whl (180 kB)\n",
            "\u001b[K     |████████████████████████████████| 180 kB 34.0 MB/s \n",
            "\u001b[?25hRequirement already satisfied: protobuf<3.20,>=3.9.2 in /usr/local/lib/python3.7/dist-packages (from tensorflowjs) (3.17.3)\n",
            "Requirement already satisfied: six<2,>=1.12.0 in /usr/local/lib/python3.7/dist-packages (from tensorflowjs) (1.15.0)\n",
            "Requirement already satisfied: importlib_resources>=5.9.0 in /usr/local/lib/python3.7/dist-packages (from tensorflowjs) (5.9.0)\n",
            "Requirement already satisfied: typing-extensions>=4.1.1 in /usr/local/lib/python3.7/dist-packages (from flax>=0.5.3->tensorflowjs) (4.1.1)\n",
            "Requirement already satisfied: msgpack in /usr/local/lib/python3.7/dist-packages (from flax>=0.5.3->tensorflowjs) (1.0.4)\n",
            "Requirement already satisfied: PyYAML>=5.4.1 in /usr/local/lib/python3.7/dist-packages (from flax>=0.5.3->tensorflowjs) (6.0)\n",
            "Collecting optax\n",
            "  Downloading optax-0.1.3-py3-none-any.whl (145 kB)\n",
            "\u001b[K     |████████████████████████████████| 145 kB 64.5 MB/s \n",
            "\u001b[?25hRequirement already satisfied: matplotlib in /usr/local/lib/python3.7/dist-packages (from flax>=0.5.3->tensorflowjs) (3.2.2)\n",
            "Collecting rich~=11.1\n",
            "  Downloading rich-11.2.0-py3-none-any.whl (217 kB)\n",
            "\u001b[K     |████████████████████████████████| 217 kB 41.1 MB/s \n",
            "\u001b[?25hRequirement already satisfied: numpy>=1.12 in /usr/local/lib/python3.7/dist-packages (from flax>=0.5.3->tensorflowjs) (1.21.6)\n",
            "Requirement already satisfied: zipp>=3.1.0 in /usr/local/lib/python3.7/dist-packages (from importlib_resources>=5.9.0->tensorflowjs) (3.8.1)\n",
            "Requirement already satisfied: scipy>=1.5 in /usr/local/lib/python3.7/dist-packages (from jax>=0.3.16->tensorflowjs) (1.7.3)\n",
            "Requirement already satisfied: opt-einsum in /usr/local/lib/python3.7/dist-packages (from jax>=0.3.16->tensorflowjs) (3.3.0)\n",
            "Requirement already satisfied: etils[epath] in /usr/local/lib/python3.7/dist-packages (from jax>=0.3.16->tensorflowjs) (0.7.1)\n",
            "Requirement already satisfied: absl-py in /usr/local/lib/python3.7/dist-packages (from jax>=0.3.16->tensorflowjs) (1.2.0)\n",
            "Requirement already satisfied: pyparsing>=2.0.2 in /usr/local/lib/python3.7/dist-packages (from packaging~=20.9->tensorflowjs) (3.0.9)\n",
            "Collecting commonmark<0.10.0,>=0.9.0\n",
            "  Downloading commonmark-0.9.1-py2.py3-none-any.whl (51 kB)\n",
            "\u001b[K     |████████████████████████████████| 51 kB 7.6 MB/s \n",
            "\u001b[?25hRequirement already satisfied: pygments<3.0.0,>=2.6.0 in /usr/local/lib/python3.7/dist-packages (from rich~=11.1->flax>=0.5.3->tensorflowjs) (2.6.1)\n",
            "Collecting colorama<0.5.0,>=0.4.0\n",
            "  Downloading colorama-0.4.5-py2.py3-none-any.whl (16 kB)\n",
            "Requirement already satisfied: tensorboard<2.9,>=2.8 in /usr/local/lib/python3.7/dist-packages (from tensorflow<3,>=2.1.0->tensorflowjs) (2.8.0)\n",
            "Requirement already satisfied: tensorflow-estimator<2.9,>=2.8 in /usr/local/lib/python3.7/dist-packages (from tensorflow<3,>=2.1.0->tensorflowjs) (2.8.0)\n",
            "Requirement already satisfied: gast>=0.2.1 in /usr/local/lib/python3.7/dist-packages (from tensorflow<3,>=2.1.0->tensorflowjs) (0.5.3)\n",
            "Requirement already satisfied: grpcio<2.0,>=1.24.3 in /usr/local/lib/python3.7/dist-packages (from tensorflow<3,>=2.1.0->tensorflowjs) (1.47.0)\n",
            "Requirement already satisfied: astunparse>=1.6.0 in /usr/local/lib/python3.7/dist-packages (from tensorflow<3,>=2.1.0->tensorflowjs) (1.6.3)\n",
            "Requirement already satisfied: keras-preprocessing>=1.1.1 in /usr/local/lib/python3.7/dist-packages (from tensorflow<3,>=2.1.0->tensorflowjs) (1.1.2)\n",
            "Requirement already satisfied: keras<2.9,>=2.8.0rc0 in /usr/local/lib/python3.7/dist-packages (from tensorflow<3,>=2.1.0->tensorflowjs) (2.8.0)\n",
            "Requirement already satisfied: h5py>=2.9.0 in /usr/local/lib/python3.7/dist-packages (from tensorflow<3,>=2.1.0->tensorflowjs) (3.1.0)\n",
            "Requirement already satisfied: wrapt>=1.11.0 in /usr/local/lib/python3.7/dist-packages (from tensorflow<3,>=2.1.0->tensorflowjs) (1.14.1)\n",
            "Requirement already satisfied: setuptools in /usr/local/lib/python3.7/dist-packages (from tensorflow<3,>=2.1.0->tensorflowjs) (57.4.0)\n",
            "Requirement already satisfied: libclang>=9.0.1 in /usr/local/lib/python3.7/dist-packages (from tensorflow<3,>=2.1.0->tensorflowjs) (14.0.6)\n",
            "Requirement already satisfied: tensorflow-io-gcs-filesystem>=0.23.1 in /usr/local/lib/python3.7/dist-packages (from tensorflow<3,>=2.1.0->tensorflowjs) (0.26.0)\n",
            "Requirement already satisfied: termcolor>=1.1.0 in /usr/local/lib/python3.7/dist-packages (from tensorflow<3,>=2.1.0->tensorflowjs) (1.1.0)\n",
            "Requirement already satisfied: flatbuffers>=1.12 in /usr/local/lib/python3.7/dist-packages (from tensorflow<3,>=2.1.0->tensorflowjs) (2.0.7)\n",
            "Requirement already satisfied: google-pasta>=0.1.1 in /usr/local/lib/python3.7/dist-packages (from tensorflow<3,>=2.1.0->tensorflowjs) (0.2.0)\n",
            "Requirement already satisfied: wheel<1.0,>=0.23.0 in /usr/local/lib/python3.7/dist-packages (from astunparse>=1.6.0->tensorflow<3,>=2.1.0->tensorflowjs) (0.37.1)\n",
            "Requirement already satisfied: cached-property in /usr/local/lib/python3.7/dist-packages (from h5py>=2.9.0->tensorflow<3,>=2.1.0->tensorflowjs) (1.5.2)\n",
            "Requirement already satisfied: requests<3,>=2.21.0 in /usr/local/lib/python3.7/dist-packages (from tensorboard<2.9,>=2.8->tensorflow<3,>=2.1.0->tensorflowjs) (2.23.0)\n",
            "Requirement already satisfied: werkzeug>=0.11.15 in /usr/local/lib/python3.7/dist-packages (from tensorboard<2.9,>=2.8->tensorflow<3,>=2.1.0->tensorflowjs) (1.0.1)\n",
            "Requirement already satisfied: tensorboard-plugin-wit>=1.6.0 in /usr/local/lib/python3.7/dist-packages (from tensorboard<2.9,>=2.8->tensorflow<3,>=2.1.0->tensorflowjs) (1.8.1)\n",
            "Requirement already satisfied: google-auth-oauthlib<0.5,>=0.4.1 in /usr/local/lib/python3.7/dist-packages (from tensorboard<2.9,>=2.8->tensorflow<3,>=2.1.0->tensorflowjs) (0.4.6)\n",
            "Requirement already satisfied: markdown>=2.6.8 in /usr/local/lib/python3.7/dist-packages (from tensorboard<2.9,>=2.8->tensorflow<3,>=2.1.0->tensorflowjs) (3.4.1)\n",
            "Requirement already satisfied: tensorboard-data-server<0.7.0,>=0.6.0 in /usr/local/lib/python3.7/dist-packages (from tensorboard<2.9,>=2.8->tensorflow<3,>=2.1.0->tensorflowjs) (0.6.1)\n",
            "Requirement already satisfied: google-auth<3,>=1.6.3 in /usr/local/lib/python3.7/dist-packages (from tensorboard<2.9,>=2.8->tensorflow<3,>=2.1.0->tensorflowjs) (1.35.0)\n",
            "Requirement already satisfied: cachetools<5.0,>=2.0.0 in /usr/local/lib/python3.7/dist-packages (from google-auth<3,>=1.6.3->tensorboard<2.9,>=2.8->tensorflow<3,>=2.1.0->tensorflowjs) (4.2.4)\n",
            "Requirement already satisfied: rsa<5,>=3.1.4 in /usr/local/lib/python3.7/dist-packages (from google-auth<3,>=1.6.3->tensorboard<2.9,>=2.8->tensorflow<3,>=2.1.0->tensorflowjs) (4.9)\n",
            "Requirement already satisfied: pyasn1-modules>=0.2.1 in /usr/local/lib/python3.7/dist-packages (from google-auth<3,>=1.6.3->tensorboard<2.9,>=2.8->tensorflow<3,>=2.1.0->tensorflowjs) (0.2.8)\n",
            "Requirement already satisfied: requests-oauthlib>=0.7.0 in /usr/local/lib/python3.7/dist-packages (from google-auth-oauthlib<0.5,>=0.4.1->tensorboard<2.9,>=2.8->tensorflow<3,>=2.1.0->tensorflowjs) (1.3.1)\n",
            "Requirement already satisfied: importlib-metadata>=4.4 in /usr/local/lib/python3.7/dist-packages (from markdown>=2.6.8->tensorboard<2.9,>=2.8->tensorflow<3,>=2.1.0->tensorflowjs) (4.12.0)\n",
            "Requirement already satisfied: pyasn1<0.5.0,>=0.4.6 in /usr/local/lib/python3.7/dist-packages (from pyasn1-modules>=0.2.1->google-auth<3,>=1.6.3->tensorboard<2.9,>=2.8->tensorflow<3,>=2.1.0->tensorflowjs) (0.4.8)\n",
            "Requirement already satisfied: chardet<4,>=3.0.2 in /usr/local/lib/python3.7/dist-packages (from requests<3,>=2.21.0->tensorboard<2.9,>=2.8->tensorflow<3,>=2.1.0->tensorflowjs) (3.0.4)\n",
            "Requirement already satisfied: urllib3!=1.25.0,!=1.25.1,<1.26,>=1.21.1 in /usr/local/lib/python3.7/dist-packages (from requests<3,>=2.21.0->tensorboard<2.9,>=2.8->tensorflow<3,>=2.1.0->tensorflowjs) (1.24.3)\n",
            "Requirement already satisfied: idna<3,>=2.5 in /usr/local/lib/python3.7/dist-packages (from requests<3,>=2.21.0->tensorboard<2.9,>=2.8->tensorflow<3,>=2.1.0->tensorflowjs) (2.10)\n",
            "Requirement already satisfied: certifi>=2017.4.17 in /usr/local/lib/python3.7/dist-packages (from requests<3,>=2.21.0->tensorboard<2.9,>=2.8->tensorflow<3,>=2.1.0->tensorflowjs) (2022.6.15)\n",
            "Requirement already satisfied: oauthlib>=3.0.0 in /usr/local/lib/python3.7/dist-packages (from requests-oauthlib>=0.7.0->google-auth-oauthlib<0.5,>=0.4.1->tensorboard<2.9,>=2.8->tensorflow<3,>=2.1.0->tensorflowjs) (3.2.0)\n",
            "Requirement already satisfied: cycler>=0.10 in /usr/local/lib/python3.7/dist-packages (from matplotlib->flax>=0.5.3->tensorflowjs) (0.11.0)\n",
            "Requirement already satisfied: kiwisolver>=1.0.1 in /usr/local/lib/python3.7/dist-packages (from matplotlib->flax>=0.5.3->tensorflowjs) (1.4.4)\n",
            "Requirement already satisfied: python-dateutil>=2.1 in /usr/local/lib/python3.7/dist-packages (from matplotlib->flax>=0.5.3->tensorflowjs) (2.8.2)\n",
            "Requirement already satisfied: jaxlib>=0.1.37 in /usr/local/lib/python3.7/dist-packages (from optax->flax>=0.5.3->tensorflowjs) (0.3.15+cuda11.cudnn805)\n",
            "Collecting chex>=0.0.4\n",
            "  Downloading chex-0.1.4-py3-none-any.whl (76 kB)\n",
            "\u001b[K     |████████████████████████████████| 76 kB 5.9 MB/s \n",
            "\u001b[?25hRequirement already satisfied: dm-tree>=0.1.5 in /usr/local/lib/python3.7/dist-packages (from chex>=0.0.4->optax->flax>=0.5.3->tensorflowjs) (0.1.7)\n",
            "Requirement already satisfied: toolz>=0.9.0 in /usr/local/lib/python3.7/dist-packages (from chex>=0.0.4->optax->flax>=0.5.3->tensorflowjs) (0.12.0)\n",
            "Installing collected packages: commonmark, colorama, chex, rich, optax, packaging, flax, tensorflowjs\n",
            "  Attempting uninstall: packaging\n",
            "    Found existing installation: packaging 21.3\n",
            "    Uninstalling packaging-21.3:\n",
            "      Successfully uninstalled packaging-21.3\n",
            "Successfully installed chex-0.1.4 colorama-0.4.5 commonmark-0.9.1 flax-0.6.0 optax-0.1.3 packaging-20.9 rich-11.2.0 tensorflowjs-3.20.0\n"
          ]
        },
        {
          "output_type": "display_data",
          "data": {
            "application/vnd.colab-display-data+json": {
              "pip_warning": {
                "packages": [
                  "packaging"
                ]
              }
            }
          },
          "metadata": {}
        }
      ]
    },
    {
      "cell_type": "code",
      "source": [
        "import tensorflowjs as tfjs\n",
        "tfjs.converters.save_keras_model(model,'attack detection/'+ Name+\"tfjsv3\")"
      ],
      "metadata": {
        "id": "r4Hg-TTlStJx"
      },
      "execution_count": null,
      "outputs": []
    },
    {
      "cell_type": "code",
      "source": [
        "model = tf.keras.models.load_model('attack detection/'+Name+'.h5')"
      ],
      "metadata": {
        "id": "_fSMddrGfa-L"
      },
      "execution_count": null,
      "outputs": []
    },
    {
      "cell_type": "code",
      "source": [
        "converter = tf.lite.TFLiteConverter.from_keras_model(model)\n",
        "tflite_model= converter.convert()"
      ],
      "metadata": {
        "id": "BdbDTI-n0U5L"
      },
      "execution_count": null,
      "outputs": []
    },
    {
      "cell_type": "code",
      "source": [
        "with open('attack detection/model.tflite','wb') as f:\n",
        "  f.write(tflite_model)"
      ],
      "metadata": {
        "id": "XI0z56x404Lq"
      },
      "execution_count": null,
      "outputs": []
    },
    {
      "cell_type": "code",
      "source": [],
      "metadata": {
        "id": "HITBINA-1GMo"
      },
      "execution_count": null,
      "outputs": []
    }
  ]
}